{
 "cells": [
  {
   "cell_type": "markdown",
   "id": "c5fca930",
   "metadata": {},
   "source": [
    "## Introduction"
   ]
  },
  {
   "cell_type": "markdown",
   "id": "952603fe",
   "metadata": {},
   "source": [
    "Coronaviruses are a broad family of viruses that may infect both animals and humans. Several coronaviruses have been linked to respiratory infections in humans, ranging from the common cold to more serious disorders including Middle East Respiratory Syndrome (MERS) and Severe Acute Respiratory Syndrome (SARS) (SARS). Coronavirus illness is caused by the most recently found coronavirus. World Health Organization COVID-19\n",
    "\n",
    "The number of new cases is growing every day all around the world. This dataset contains daily information from India's states and union territories."
   ]
  },
  {
   "cell_type": "markdown",
   "id": "08fc2b18",
   "metadata": {},
   "source": [
    "## Data understanding"
   ]
  },
  {
   "cell_type": "markdown",
   "id": "3cd08101",
   "metadata": {},
   "source": [
    "#### EDA: Exploring and cleaning"
   ]
  },
  {
   "cell_type": "code",
   "execution_count": 1,
   "id": "adb147a3",
   "metadata": {},
   "outputs": [],
   "source": [
    "#Load library\n",
    "import pandas as pd\n",
    "import numpy as np\n",
    "import matplotlib.pyplot as plt\n",
    "import seaborn as sns\n",
    "#Suppressin warnings\n",
    "import warnings\n",
    "warnings.filterwarnings('ignore')"
   ]
  },
  {
   "cell_type": "markdown",
   "id": "477906d0",
   "metadata": {},
   "source": [
    "### Load dataset"
   ]
  },
  {
   "cell_type": "code",
   "execution_count": 2,
   "id": "7161efd6",
   "metadata": {
    "scrolled": true
   },
   "outputs": [
    {
     "data": {
      "text/html": [
       "<div>\n",
       "<style scoped>\n",
       "    .dataframe tbody tr th:only-of-type {\n",
       "        vertical-align: middle;\n",
       "    }\n",
       "\n",
       "    .dataframe tbody tr th {\n",
       "        vertical-align: top;\n",
       "    }\n",
       "\n",
       "    .dataframe thead th {\n",
       "        text-align: right;\n",
       "    }\n",
       "</style>\n",
       "<table border=\"1\" class=\"dataframe\">\n",
       "  <thead>\n",
       "    <tr style=\"text-align: right;\">\n",
       "      <th></th>\n",
       "      <th>Sno</th>\n",
       "      <th>Date</th>\n",
       "      <th>Time</th>\n",
       "      <th>State/UnionTerritory</th>\n",
       "      <th>ConfirmedIndianNational</th>\n",
       "      <th>ConfirmedForeignNational</th>\n",
       "      <th>Cured</th>\n",
       "      <th>Deaths</th>\n",
       "      <th>Confirmed</th>\n",
       "    </tr>\n",
       "  </thead>\n",
       "  <tbody>\n",
       "    <tr>\n",
       "      <th>0</th>\n",
       "      <td>1</td>\n",
       "      <td>30/01/20</td>\n",
       "      <td>6:00 PM</td>\n",
       "      <td>Kerala</td>\n",
       "      <td>1</td>\n",
       "      <td>0</td>\n",
       "      <td>0</td>\n",
       "      <td>0</td>\n",
       "      <td>1</td>\n",
       "    </tr>\n",
       "    <tr>\n",
       "      <th>1</th>\n",
       "      <td>2</td>\n",
       "      <td>31/01/20</td>\n",
       "      <td>6:00 PM</td>\n",
       "      <td>Kerala</td>\n",
       "      <td>1</td>\n",
       "      <td>0</td>\n",
       "      <td>0</td>\n",
       "      <td>0</td>\n",
       "      <td>1</td>\n",
       "    </tr>\n",
       "    <tr>\n",
       "      <th>2</th>\n",
       "      <td>3</td>\n",
       "      <td>01/02/20</td>\n",
       "      <td>6:00 PM</td>\n",
       "      <td>Kerala</td>\n",
       "      <td>2</td>\n",
       "      <td>0</td>\n",
       "      <td>0</td>\n",
       "      <td>0</td>\n",
       "      <td>2</td>\n",
       "    </tr>\n",
       "    <tr>\n",
       "      <th>3</th>\n",
       "      <td>4</td>\n",
       "      <td>02/02/20</td>\n",
       "      <td>6:00 PM</td>\n",
       "      <td>Kerala</td>\n",
       "      <td>3</td>\n",
       "      <td>0</td>\n",
       "      <td>0</td>\n",
       "      <td>0</td>\n",
       "      <td>3</td>\n",
       "    </tr>\n",
       "    <tr>\n",
       "      <th>4</th>\n",
       "      <td>5</td>\n",
       "      <td>03/02/20</td>\n",
       "      <td>6:00 PM</td>\n",
       "      <td>Kerala</td>\n",
       "      <td>3</td>\n",
       "      <td>0</td>\n",
       "      <td>0</td>\n",
       "      <td>0</td>\n",
       "      <td>3</td>\n",
       "    </tr>\n",
       "  </tbody>\n",
       "</table>\n",
       "</div>"
      ],
      "text/plain": [
       "   Sno      Date     Time State/UnionTerritory ConfirmedIndianNational  \\\n",
       "0    1  30/01/20  6:00 PM               Kerala                       1   \n",
       "1    2  31/01/20  6:00 PM               Kerala                       1   \n",
       "2    3  01/02/20  6:00 PM               Kerala                       2   \n",
       "3    4  02/02/20  6:00 PM               Kerala                       3   \n",
       "4    5  03/02/20  6:00 PM               Kerala                       3   \n",
       "\n",
       "  ConfirmedForeignNational  Cured  Deaths  Confirmed  \n",
       "0                        0      0       0          1  \n",
       "1                        0      0       0          1  \n",
       "2                        0      0       0          2  \n",
       "3                        0      0       0          3  \n",
       "4                        0      0       0          3  "
      ]
     },
     "execution_count": 2,
     "metadata": {},
     "output_type": "execute_result"
    }
   ],
   "source": [
    "# load dataset\n",
    "df = pd.read_csv(\"covid_19_india.csv\")\n",
    "df.head()"
   ]
  },
  {
   "cell_type": "markdown",
   "id": "a0a44677",
   "metadata": {},
   "source": [
    "Data Dictionary\n",
    "\n",
    "Sno: This column shows the entry number of Covid patients.\n",
    "\n",
    "Date: This column shows the Date of registration of Covid patients.\n",
    "\n",
    "Time: This column shows the registration time of Covid patients.\n",
    "\n",
    "State/UnionTerritory: This column shows the Different state of India suffering from Covid.\n",
    "\n",
    "ConfirmedIndianNational: This column shows Indians suffering from Covid.\n",
    "\n",
    "ConfirmedForeignNational: This column shows Foreigners in India suffering from Covid.\n",
    "\n",
    "Cured: This column shows patients cured from Covid.\n",
    "\n",
    "Deaths: This column shows patients died due to Covid.\n",
    "\n",
    "Confirmed: This column shows patients with positive results. "
   ]
  },
  {
   "cell_type": "code",
   "execution_count": 3,
   "id": "b7527e3f",
   "metadata": {},
   "outputs": [
    {
     "data": {
      "text/plain": [
       "(2991, 9)"
      ]
     },
     "execution_count": 3,
     "metadata": {},
     "output_type": "execute_result"
    }
   ],
   "source": [
    "df.shape"
   ]
  },
  {
   "cell_type": "markdown",
   "id": "796196d7",
   "metadata": {},
   "source": [
    "The function shape is used to show the number of observations, in this case, 2991 rows, and numbers of features or variable, 9 columns. "
   ]
  },
  {
   "cell_type": "code",
   "execution_count": 4,
   "id": "257d1c3c",
   "metadata": {
    "scrolled": true
   },
   "outputs": [
    {
     "data": {
      "text/html": [
       "<div>\n",
       "<style scoped>\n",
       "    .dataframe tbody tr th:only-of-type {\n",
       "        vertical-align: middle;\n",
       "    }\n",
       "\n",
       "    .dataframe tbody tr th {\n",
       "        vertical-align: top;\n",
       "    }\n",
       "\n",
       "    .dataframe thead th {\n",
       "        text-align: right;\n",
       "    }\n",
       "</style>\n",
       "<table border=\"1\" class=\"dataframe\">\n",
       "  <thead>\n",
       "    <tr style=\"text-align: right;\">\n",
       "      <th></th>\n",
       "      <th>Sno</th>\n",
       "      <th>Cured</th>\n",
       "      <th>Deaths</th>\n",
       "      <th>Confirmed</th>\n",
       "    </tr>\n",
       "  </thead>\n",
       "  <tbody>\n",
       "    <tr>\n",
       "      <th>count</th>\n",
       "      <td>2991.000000</td>\n",
       "      <td>2991.000000</td>\n",
       "      <td>2991.000000</td>\n",
       "      <td>2991.000000</td>\n",
       "    </tr>\n",
       "    <tr>\n",
       "      <th>mean</th>\n",
       "      <td>1496.000000</td>\n",
       "      <td>927.865597</td>\n",
       "      <td>64.840187</td>\n",
       "      <td>2202.333668</td>\n",
       "    </tr>\n",
       "    <tr>\n",
       "      <th>std</th>\n",
       "      <td>863.571653</td>\n",
       "      <td>3354.157599</td>\n",
       "      <td>264.954939</td>\n",
       "      <td>7548.386880</td>\n",
       "    </tr>\n",
       "    <tr>\n",
       "      <th>min</th>\n",
       "      <td>1.000000</td>\n",
       "      <td>0.000000</td>\n",
       "      <td>0.000000</td>\n",
       "      <td>0.000000</td>\n",
       "    </tr>\n",
       "    <tr>\n",
       "      <th>25%</th>\n",
       "      <td>748.500000</td>\n",
       "      <td>1.000000</td>\n",
       "      <td>0.000000</td>\n",
       "      <td>12.000000</td>\n",
       "    </tr>\n",
       "    <tr>\n",
       "      <th>50%</th>\n",
       "      <td>1496.000000</td>\n",
       "      <td>25.000000</td>\n",
       "      <td>1.000000</td>\n",
       "      <td>94.000000</td>\n",
       "    </tr>\n",
       "    <tr>\n",
       "      <th>75%</th>\n",
       "      <td>2243.500000</td>\n",
       "      <td>360.000000</td>\n",
       "      <td>17.000000</td>\n",
       "      <td>1259.000000</td>\n",
       "    </tr>\n",
       "    <tr>\n",
       "      <th>max</th>\n",
       "      <td>2991.000000</td>\n",
       "      <td>47796.000000</td>\n",
       "      <td>3717.000000</td>\n",
       "      <td>101141.000000</td>\n",
       "    </tr>\n",
       "  </tbody>\n",
       "</table>\n",
       "</div>"
      ],
      "text/plain": [
       "               Sno         Cured       Deaths      Confirmed\n",
       "count  2991.000000   2991.000000  2991.000000    2991.000000\n",
       "mean   1496.000000    927.865597    64.840187    2202.333668\n",
       "std     863.571653   3354.157599   264.954939    7548.386880\n",
       "min       1.000000      0.000000     0.000000       0.000000\n",
       "25%     748.500000      1.000000     0.000000      12.000000\n",
       "50%    1496.000000     25.000000     1.000000      94.000000\n",
       "75%    2243.500000    360.000000    17.000000    1259.000000\n",
       "max    2991.000000  47796.000000  3717.000000  101141.000000"
      ]
     },
     "execution_count": 4,
     "metadata": {},
     "output_type": "execute_result"
    }
   ],
   "source": [
    "df.describe()"
   ]
  },
  {
   "cell_type": "code",
   "execution_count": 5,
   "id": "a807d5f7",
   "metadata": {},
   "outputs": [
    {
     "data": {
      "text/html": [
       "<div>\n",
       "<style scoped>\n",
       "    .dataframe tbody tr th:only-of-type {\n",
       "        vertical-align: middle;\n",
       "    }\n",
       "\n",
       "    .dataframe tbody tr th {\n",
       "        vertical-align: top;\n",
       "    }\n",
       "\n",
       "    .dataframe thead th {\n",
       "        text-align: right;\n",
       "    }\n",
       "</style>\n",
       "<table border=\"1\" class=\"dataframe\">\n",
       "  <thead>\n",
       "    <tr style=\"text-align: right;\">\n",
       "      <th></th>\n",
       "      <th>Date</th>\n",
       "      <th>Time</th>\n",
       "      <th>State/UnionTerritory</th>\n",
       "      <th>ConfirmedIndianNational</th>\n",
       "      <th>ConfirmedForeignNational</th>\n",
       "    </tr>\n",
       "  </thead>\n",
       "  <tbody>\n",
       "    <tr>\n",
       "      <th>count</th>\n",
       "      <td>2991</td>\n",
       "      <td>2991</td>\n",
       "      <td>2991</td>\n",
       "      <td>2991</td>\n",
       "      <td>2991</td>\n",
       "    </tr>\n",
       "    <tr>\n",
       "      <th>unique</th>\n",
       "      <td>136</td>\n",
       "      <td>7</td>\n",
       "      <td>40</td>\n",
       "      <td>62</td>\n",
       "      <td>12</td>\n",
       "    </tr>\n",
       "    <tr>\n",
       "      <th>top</th>\n",
       "      <td>11/06/20</td>\n",
       "      <td>8:00 AM</td>\n",
       "      <td>Kerala</td>\n",
       "      <td>-</td>\n",
       "      <td>-</td>\n",
       "    </tr>\n",
       "    <tr>\n",
       "      <th>freq</th>\n",
       "      <td>37</td>\n",
       "      <td>1353</td>\n",
       "      <td>136</td>\n",
       "      <td>2545</td>\n",
       "      <td>2545</td>\n",
       "    </tr>\n",
       "  </tbody>\n",
       "</table>\n",
       "</div>"
      ],
      "text/plain": [
       "            Date     Time State/UnionTerritory ConfirmedIndianNational  \\\n",
       "count       2991     2991                 2991                    2991   \n",
       "unique       136        7                   40                      62   \n",
       "top     11/06/20  8:00 AM               Kerala                       -   \n",
       "freq          37     1353                  136                    2545   \n",
       "\n",
       "       ConfirmedForeignNational  \n",
       "count                      2991  \n",
       "unique                       12  \n",
       "top                           -  \n",
       "freq                       2545  "
      ]
     },
     "execution_count": 5,
     "metadata": {},
     "output_type": "execute_result"
    }
   ],
   "source": [
    "df.describe(include=object)"
   ]
  },
  {
   "cell_type": "code",
   "execution_count": 6,
   "id": "d5c4cdbd",
   "metadata": {},
   "outputs": [
    {
     "name": "stdout",
     "output_type": "stream",
     "text": [
      "Number of duplicate rows:  0\n"
     ]
    }
   ],
   "source": [
    "duplicate_rows=df[df.duplicated()]\n",
    "print('Number of duplicate rows: ',duplicate_rows.shape[0])"
   ]
  },
  {
   "cell_type": "markdown",
   "id": "ea207f49",
   "metadata": {},
   "source": [
    "It was checked the duplicates rows, in this case don`t have duplicate. "
   ]
  },
  {
   "cell_type": "markdown",
   "id": "0774d873",
   "metadata": {},
   "source": [
    "### Checking missing values"
   ]
  },
  {
   "cell_type": "code",
   "execution_count": 7,
   "id": "0ee95f6f",
   "metadata": {},
   "outputs": [
    {
     "data": {
      "text/plain": [
       "False"
      ]
     },
     "execution_count": 7,
     "metadata": {},
     "output_type": "execute_result"
    }
   ],
   "source": [
    "df.isnull().values.any()"
   ]
  },
  {
   "cell_type": "code",
   "execution_count": 8,
   "id": "1468aaaa",
   "metadata": {},
   "outputs": [
    {
     "data": {
      "text/plain": [
       "Sno                         0\n",
       "Date                        0\n",
       "Time                        0\n",
       "State/UnionTerritory        0\n",
       "ConfirmedIndianNational     0\n",
       "ConfirmedForeignNational    0\n",
       "Cured                       0\n",
       "Deaths                      0\n",
       "Confirmed                   0\n",
       "dtype: int64"
      ]
     },
     "execution_count": 8,
     "metadata": {},
     "output_type": "execute_result"
    }
   ],
   "source": [
    "df.isnull().sum()"
   ]
  },
  {
   "cell_type": "code",
   "execution_count": 9,
   "id": "0e3b9a5c",
   "metadata": {},
   "outputs": [
    {
     "name": "stdout",
     "output_type": "stream",
     "text": [
      "Number of missing values:  0\n"
     ]
    }
   ],
   "source": [
    "missing_values=df.isnull().sum().sum()\n",
    "print(\"Number of missing values: \", missing_values)"
   ]
  },
  {
   "cell_type": "markdown",
   "id": "14a20054",
   "metadata": {},
   "source": [
    "It shows if there is any missing data in any column, represented as \"Fasle\" and the summatory for each column. The total number of NA is 0. ."
   ]
  },
  {
   "cell_type": "markdown",
   "id": "21a01459",
   "metadata": {},
   "source": [
    "### Analysis of few columns"
   ]
  },
  {
   "cell_type": "code",
   "execution_count": 10,
   "id": "8040da78",
   "metadata": {},
   "outputs": [
    {
     "data": {
      "text/plain": [
       "1       263\n",
       "2       117\n",
       "7        92\n",
       "3        88\n",
       "33       63\n",
       "       ... \n",
       "321       1\n",
       "696       1\n",
       "6923      1\n",
       "8194      1\n",
       "7984      1\n",
       "Name: Confirmed, Length: 1281, dtype: int64"
      ]
     },
     "execution_count": 10,
     "metadata": {},
     "output_type": "execute_result"
    }
   ],
   "source": [
    "df['Confirmed'].value_counts()"
   ]
  },
  {
   "cell_type": "code",
   "execution_count": 11,
   "id": "ef0f3630",
   "metadata": {},
   "outputs": [
    {
     "data": {
      "text/plain": [
       "Kerala                                      136\n",
       "Delhi                                       104\n",
       "Rajasthan                                   103\n",
       "Haryana                                     102\n",
       "Telengana                                   102\n",
       "Uttar Pradesh                               102\n",
       "Ladakh                                       99\n",
       "Tamil Nadu                                   99\n",
       "Karnataka                                    97\n",
       "Maharashtra                                  97\n",
       "Jammu and Kashmir                            97\n",
       "Punjab                                       97\n",
       "Andhra Pradesh                               94\n",
       "Uttarakhand                                  91\n",
       "Odisha                                       90\n",
       "Puducherry                                   88\n",
       "West Bengal                                  88\n",
       "Chhattisgarh                                 87\n",
       "Chandigarh                                   87\n",
       "Gujarat                                      86\n",
       "Madhya Pradesh                               85\n",
       "Himachal Pradesh                             85\n",
       "Bihar                                        84\n",
       "Manipur                                      82\n",
       "Mizoram                                      81\n",
       "Andaman and Nicobar Islands                  80\n",
       "Goa                                          80\n",
       "Assam                                        74\n",
       "Jharkhand                                    74\n",
       "Arunachal Pradesh                            72\n",
       "Tripura                                      68\n",
       "Meghalaya                                    61\n",
       "Dadar Nagar Haveli                           37\n",
       "Nagaland                                     28\n",
       "Cases being reassigned to states             25\n",
       "Sikkim                                       21\n",
       "Unassigned                                    3\n",
       "Dadra and Nagar Haveli and Daman and Diu      2\n",
       "Telangana                                     2\n",
       "Daman & Diu                                   1\n",
       "Name: State/UnionTerritory, dtype: int64"
      ]
     },
     "execution_count": 11,
     "metadata": {},
     "output_type": "execute_result"
    }
   ],
   "source": [
    "df['State/UnionTerritory'].value_counts()"
   ]
  },
  {
   "cell_type": "code",
   "execution_count": 12,
   "id": "68285717",
   "metadata": {},
   "outputs": [
    {
     "data": {
      "text/plain": [
       "-      2545\n",
       "1       108\n",
       "3        73\n",
       "2        33\n",
       "4        21\n",
       "       ... \n",
       "41        1\n",
       "86        1\n",
       "87        1\n",
       "45        1\n",
       "110       1\n",
       "Name: ConfirmedIndianNational, Length: 62, dtype: int64"
      ]
     },
     "execution_count": 12,
     "metadata": {},
     "output_type": "execute_result"
    }
   ],
   "source": [
    "df['ConfirmedIndianNational'].value_counts()"
   ]
  },
  {
   "cell_type": "code",
   "execution_count": 13,
   "id": "b1696968",
   "metadata": {},
   "outputs": [
    {
     "data": {
      "text/plain": [
       "-     2545\n",
       "0      314\n",
       "1       39\n",
       "2       36\n",
       "14      25\n",
       "3       12\n",
       "10       6\n",
       "8        5\n",
       "7        3\n",
       "6        3\n",
       "11       2\n",
       "9        1\n",
       "Name: ConfirmedForeignNational, dtype: int64"
      ]
     },
     "execution_count": 13,
     "metadata": {},
     "output_type": "execute_result"
    }
   ],
   "source": [
    "df['ConfirmedForeignNational'].value_counts()"
   ]
  },
  {
   "cell_type": "code",
   "execution_count": 14,
   "id": "2330f289",
   "metadata": {},
   "outputs": [
    {
     "data": {
      "text/plain": [
       "0       642\n",
       "1       202\n",
       "2        92\n",
       "3        76\n",
       "7        45\n",
       "       ... \n",
       "2165      1\n",
       "829       1\n",
       "1353      1\n",
       "453       1\n",
       "4206      1\n",
       "Name: Cured, Length: 902, dtype: int64"
      ]
     },
     "execution_count": 14,
     "metadata": {},
     "output_type": "execute_result"
    }
   ],
   "source": [
    "df['Cured'].value_counts()"
   ]
  },
  {
   "cell_type": "code",
   "execution_count": 15,
   "id": "084c2ac5",
   "metadata": {
    "scrolled": true
   },
   "outputs": [
    {
     "data": {
      "text/plain": [
       "0       1242\n",
       "1        327\n",
       "3        144\n",
       "4        104\n",
       "2         98\n",
       "        ... \n",
       "749        1\n",
       "267        1\n",
       "1390       1\n",
       "147        1\n",
       "451        1\n",
       "Name: Deaths, Length: 352, dtype: int64"
      ]
     },
     "execution_count": 15,
     "metadata": {},
     "output_type": "execute_result"
    }
   ],
   "source": [
    "df['Deaths'].value_counts()"
   ]
  },
  {
   "cell_type": "code",
   "execution_count": 16,
   "id": "e3b7d0c7",
   "metadata": {},
   "outputs": [
    {
     "data": {
      "text/plain": [
       "Index(['Sno', 'Date', 'Time', 'State/UnionTerritory',\n",
       "       'ConfirmedIndianNational', 'ConfirmedForeignNational', 'Cured',\n",
       "       'Deaths', 'Confirmed'],\n",
       "      dtype='object')"
      ]
     },
     "execution_count": 16,
     "metadata": {},
     "output_type": "execute_result"
    }
   ],
   "source": [
    "df.columns"
   ]
  },
  {
   "cell_type": "code",
   "execution_count": 17,
   "id": "c2fdb611",
   "metadata": {},
   "outputs": [
    {
     "name": "stdout",
     "output_type": "stream",
     "text": [
      "Total Confirmed cases = 6587180\n",
      "Total Cured cases = 2775246\n",
      "Total Death cases = 193937\n"
     ]
    },
    {
     "data": {
      "image/png": "[encoded data removed]",
      "text/plain": [
       "<Figure size 2000x1000 with 1 Axes>"
      ]
     },
     "metadata": {},
     "output_type": "display_data"
    }
   ],
   "source": [
    "\"\"\"Barplot for Confirmed , Deaths , Cured\"\"\"\n",
    "fig = plt.figure(figsize=(20,10))\n",
    "\n",
    "confirm= df['Confirmed'].sum()\n",
    "cured = df['Cured'].sum()\n",
    "deaths= df['Deaths'].sum()\n",
    "\n",
    "print('Total Confirmed cases =',confirm)\n",
    "print('Total Cured cases =',cured)\n",
    "print('Total Death cases =',deaths)\n",
    "\n",
    "barplot = sns.barplot(x=['Confirmed','Cured','Deaths'],y=[confirm,cured,deaths])\n",
    "barplot.set_yticklabels(labels=(barplot.get_yticks()*1).astype(int))\n",
    "\n",
    "plt.show()"
   ]
  },
  {
   "cell_type": "markdown",
   "id": "812e0a1e",
   "metadata": {},
   "source": [
    "The graph shows that of the people who tested positive more than 40% were cured and less than 5% of people died."
   ]
  },
  {
   "cell_type": "code",
   "execution_count": 18,
   "id": "90a92883",
   "metadata": {
    "scrolled": true
   },
   "outputs": [
    {
     "data": {
      "text/plain": [
       "<matplotlib.legend.Legend at 0x25ff2fd8e20>"
      ]
     },
     "execution_count": 18,
     "metadata": {},
     "output_type": "execute_result"
    },
    {
     "data": {
      "image/png": "[encoded data removed]",
      "text/plain": [
       "<Figure size 1700x1000 with 1 Axes>"
      ]
     },
     "metadata": {},
     "output_type": "display_data"
    }
   ],
   "source": [
    "\"Piechart for 'Confirmed','Cured', 'Deaths'\"\n",
    "\n",
    "fig = plt.figure(figsize=(17,10))\n",
    "df_values = [df['Confirmed'].sum(),df['Cured'].sum(),df['Deaths'].sum()]\n",
    "df_keys = [confirm,cured,deaths]\n",
    "\n",
    "\n",
    "plt.pie(df_keys,labels = df_keys, explode = (0.02,0.02,0.1), autopct = '%.0f%%')\n",
    "plt.legend(['Confirmed','Cured','Deaths'])"
   ]
  },
  {
   "cell_type": "code",
   "execution_count": 19,
   "id": "3bded449",
   "metadata": {},
   "outputs": [
    {
     "data": {
      "text/plain": [
       "<AxesSubplot:xlabel='Deaths', ylabel='Density'>"
      ]
     },
     "execution_count": 19,
     "metadata": {},
     "output_type": "execute_result"
    },
    {
     "data": {
      "image/png": "[encoded data removed]",
      "text/plain": [
       "<Figure size 1500x500 with 2 Axes>"
      ]
     },
     "metadata": {},
     "output_type": "display_data"
    }
   ],
   "source": [
    "plt.figure(figsize=(15,5))\n",
    "plt.subplot(121)\n",
    "sns.boxplot(df['Deaths'])\n",
    "plt.subplot(122)\n",
    "sns.distplot(df['Deaths'])"
   ]
  },
  {
   "cell_type": "code",
   "execution_count": 20,
   "id": "2e80e130",
   "metadata": {},
   "outputs": [
    {
     "data": {
      "text/plain": [
       "<AxesSubplot:xlabel='Confirmed', ylabel='Density'>"
      ]
     },
     "execution_count": 20,
     "metadata": {},
     "output_type": "execute_result"
    },
    {
     "data": {
      "image/png": "[encoded data removed]",
      "text/plain": [
       "<Figure size 1500x500 with 2 Axes>"
      ]
     },
     "metadata": {},
     "output_type": "display_data"
    }
   ],
   "source": [
    "plt.figure(figsize=(15,5))\n",
    "plt.subplot(121)\n",
    "sns.boxplot(df['Confirmed'])\n",
    "plt.subplot(122)\n",
    "sns.distplot(df['Confirmed'])"
   ]
  },
  {
   "cell_type": "code",
   "execution_count": 21,
   "id": "471acbad",
   "metadata": {},
   "outputs": [
    {
     "data": {
      "text/plain": [
       "<AxesSubplot:xlabel='Cured', ylabel='Density'>"
      ]
     },
     "execution_count": 21,
     "metadata": {},
     "output_type": "execute_result"
    },
    {
     "data": {
      "image/png": "[encoded data removed]",
      "text/plain": [
       "<Figure size 1500x500 with 2 Axes>"
      ]
     },
     "metadata": {},
     "output_type": "display_data"
    }
   ],
   "source": [
    "plt.figure(figsize=(15,5))\n",
    "plt.subplot(121)\n",
    "sns.boxplot(df['Cured'])\n",
    "plt.subplot(122)\n",
    "sns.distplot(df['Cured'])"
   ]
  },
  {
   "cell_type": "code",
   "execution_count": 22,
   "id": "beac65a0",
   "metadata": {
    "scrolled": true
   },
   "outputs": [
    {
     "data": {
      "text/plain": [
       "Text(0, 0.5, 'Deaths')"
      ]
     },
     "execution_count": 22,
     "metadata": {},
     "output_type": "execute_result"
    },
    {
     "data": {
      "image/png": "[encoded data removed]",
      "text/plain": [
       "<Figure size 1500x1000 with 1 Axes>"
      ]
     },
     "metadata": {},
     "output_type": "display_data"
    }
   ],
   "source": [
    "top_10_death_cases = df.groupby(by = 'State/UnionTerritory').max()[['Deaths' , 'Date']].sort_values(by='Deaths',ascending = False).reset_index()\n",
    "fig = plt.figure(figsize=(15,10))\n",
    "ax = sns.barplot(data = top_10_death_cases.iloc[:10], y='Deaths', x='State/UnionTerritory')\n",
    "plt.title('Top 10 states with most death cases',size = 25)\n",
    "plt.xlabel('State')\n",
    "plt.ylabel('Deaths')"
   ]
  },
  {
   "cell_type": "markdown",
   "id": "1785f385",
   "metadata": {},
   "source": [
    "# Correlations\n"
   ]
  },
  {
   "cell_type": "markdown",
   "id": "9a97f93f",
   "metadata": {},
   "source": [
    "The correlation coefficient is not the best way to express a feature's \"relevance,\" but it does offer us an indication of potential linkages within the data. Some general meanings of the correlation coefficient's absolute value are:\n",
    "\n",
    ".00-.19 “very weak”\n",
    "\n",
    ".20-.39 “weak”\n",
    "\n",
    ".40-.59 “moderate”\n",
    "\n",
    ".60-.79 “strong”\n",
    "\n",
    ".80-1.0 “very strong”"
   ]
  },
  {
   "cell_type": "code",
   "execution_count": 23,
   "id": "8411c381",
   "metadata": {},
   "outputs": [
    {
     "data": {
      "text/html": [
       "<div>\n",
       "<style scoped>\n",
       "    .dataframe tbody tr th:only-of-type {\n",
       "        vertical-align: middle;\n",
       "    }\n",
       "\n",
       "    .dataframe tbody tr th {\n",
       "        vertical-align: top;\n",
       "    }\n",
       "\n",
       "    .dataframe thead th {\n",
       "        text-align: right;\n",
       "    }\n",
       "</style>\n",
       "<table border=\"1\" class=\"dataframe\">\n",
       "  <thead>\n",
       "    <tr style=\"text-align: right;\">\n",
       "      <th></th>\n",
       "      <th>Sno</th>\n",
       "      <th>Cured</th>\n",
       "      <th>Deaths</th>\n",
       "      <th>Confirmed</th>\n",
       "    </tr>\n",
       "  </thead>\n",
       "  <tbody>\n",
       "    <tr>\n",
       "      <th>Sno</th>\n",
       "      <td>1.000000</td>\n",
       "      <td>0.318217</td>\n",
       "      <td>0.244275</td>\n",
       "      <td>0.299630</td>\n",
       "    </tr>\n",
       "    <tr>\n",
       "      <th>Cured</th>\n",
       "      <td>0.318217</td>\n",
       "      <td>1.000000</td>\n",
       "      <td>0.911367</td>\n",
       "      <td>0.967410</td>\n",
       "    </tr>\n",
       "    <tr>\n",
       "      <th>Deaths</th>\n",
       "      <td>0.244275</td>\n",
       "      <td>0.911367</td>\n",
       "      <td>1.000000</td>\n",
       "      <td>0.942594</td>\n",
       "    </tr>\n",
       "    <tr>\n",
       "      <th>Confirmed</th>\n",
       "      <td>0.299630</td>\n",
       "      <td>0.967410</td>\n",
       "      <td>0.942594</td>\n",
       "      <td>1.000000</td>\n",
       "    </tr>\n",
       "  </tbody>\n",
       "</table>\n",
       "</div>"
      ],
      "text/plain": [
       "                Sno     Cured    Deaths  Confirmed\n",
       "Sno        1.000000  0.318217  0.244275   0.299630\n",
       "Cured      0.318217  1.000000  0.911367   0.967410\n",
       "Deaths     0.244275  0.911367  1.000000   0.942594\n",
       "Confirmed  0.299630  0.967410  0.942594   1.000000"
      ]
     },
     "execution_count": 23,
     "metadata": {},
     "output_type": "execute_result"
    }
   ],
   "source": [
    "df.corr()"
   ]
  },
  {
   "cell_type": "code",
   "execution_count": 24,
   "id": "66919775",
   "metadata": {},
   "outputs": [
    {
     "data": {
      "text/plain": [
       "Text(0.5, 0.98, 'Correlation Matrix')"
      ]
     },
     "execution_count": 24,
     "metadata": {},
     "output_type": "execute_result"
    },
    {
     "data": {
      "image/png": "[encoded data removed]",
      "text/plain": [
       "<Figure size 1000x600 with 2 Axes>"
      ]
     },
     "metadata": {},
     "output_type": "display_data"
    }
   ],
   "source": [
    "plt.figure(figsize = (10, 6))\n",
    "sns.heatmap(df.corr(), cmap = 'YlGnBu', annot = True)\n",
    "plt.suptitle('Correlation Matrix', fontsize = 20)"
   ]
  },
  {
   "cell_type": "code",
   "execution_count": 25,
   "id": "a7f868cb",
   "metadata": {},
   "outputs": [
    {
     "name": "stdout",
     "output_type": "stream",
     "text": [
      "Most Positive Correlations:\n",
      " Sno          0.299630\n",
      "Deaths       0.942594\n",
      "Cured        0.967410\n",
      "Confirmed    1.000000\n",
      "Name: Confirmed, dtype: float64\n"
     ]
    }
   ],
   "source": [
    "# Find correlations with the target and sort\n",
    "correlations = df.corr()['Confirmed'].sort_values()\n",
    "\n",
    "# Display correlations\n",
    "print('Most Positive Correlations:\\n', correlations.tail(15))"
   ]
  },
  {
   "cell_type": "markdown",
   "id": "41042401",
   "metadata": {},
   "source": [
    "Let's look at some of the most notable correlations: The greatest favorable association is the Cured. (Except for Target(Confirmed), because a variable's correlation with itself is always one!) Cured shows patients cured from Covid.\n"
   ]
  },
  {
   "cell_type": "markdown",
   "id": "5a2dade9",
   "metadata": {},
   "source": [
    "# Encoding the Categorical data\n"
   ]
  },
  {
   "cell_type": "code",
   "execution_count": 26,
   "id": "50d33f30",
   "metadata": {},
   "outputs": [],
   "source": [
    "from sklearn.model_selection import train_test_split\n",
    "from sklearn.ensemble import RandomForestClassifier\n",
    "from sklearn.dummy import DummyClassifier\n",
    "import matplotlib.pyplot as plt\n",
    "from sklearn.metrics import confusion_matrix\n",
    "from numpy import random"
   ]
  },
  {
   "cell_type": "code",
   "execution_count": 27,
   "id": "39263ca5",
   "metadata": {
    "scrolled": true
   },
   "outputs": [
    {
     "data": {
      "text/html": [
       "<div>\n",
       "<style scoped>\n",
       "    .dataframe tbody tr th:only-of-type {\n",
       "        vertical-align: middle;\n",
       "    }\n",
       "\n",
       "    .dataframe tbody tr th {\n",
       "        vertical-align: top;\n",
       "    }\n",
       "\n",
       "    .dataframe thead th {\n",
       "        text-align: right;\n",
       "    }\n",
       "</style>\n",
       "<table border=\"1\" class=\"dataframe\">\n",
       "  <thead>\n",
       "    <tr style=\"text-align: right;\">\n",
       "      <th></th>\n",
       "      <th>Date</th>\n",
       "      <th>Time</th>\n",
       "      <th>State/UnionTerritory</th>\n",
       "      <th>ConfirmedIndianNational</th>\n",
       "      <th>ConfirmedForeignNational</th>\n",
       "    </tr>\n",
       "  </thead>\n",
       "  <tbody>\n",
       "    <tr>\n",
       "      <th>0</th>\n",
       "      <td>30/01/20</td>\n",
       "      <td>6:00 PM</td>\n",
       "      <td>Kerala</td>\n",
       "      <td>1</td>\n",
       "      <td>0</td>\n",
       "    </tr>\n",
       "    <tr>\n",
       "      <th>1</th>\n",
       "      <td>31/01/20</td>\n",
       "      <td>6:00 PM</td>\n",
       "      <td>Kerala</td>\n",
       "      <td>1</td>\n",
       "      <td>0</td>\n",
       "    </tr>\n",
       "    <tr>\n",
       "      <th>2</th>\n",
       "      <td>01/02/20</td>\n",
       "      <td>6:00 PM</td>\n",
       "      <td>Kerala</td>\n",
       "      <td>2</td>\n",
       "      <td>0</td>\n",
       "    </tr>\n",
       "    <tr>\n",
       "      <th>3</th>\n",
       "      <td>02/02/20</td>\n",
       "      <td>6:00 PM</td>\n",
       "      <td>Kerala</td>\n",
       "      <td>3</td>\n",
       "      <td>0</td>\n",
       "    </tr>\n",
       "    <tr>\n",
       "      <th>4</th>\n",
       "      <td>03/02/20</td>\n",
       "      <td>6:00 PM</td>\n",
       "      <td>Kerala</td>\n",
       "      <td>3</td>\n",
       "      <td>0</td>\n",
       "    </tr>\n",
       "  </tbody>\n",
       "</table>\n",
       "</div>"
      ],
      "text/plain": [
       "       Date     Time State/UnionTerritory ConfirmedIndianNational  \\\n",
       "0  30/01/20  6:00 PM               Kerala                       1   \n",
       "1  31/01/20  6:00 PM               Kerala                       1   \n",
       "2  01/02/20  6:00 PM               Kerala                       2   \n",
       "3  02/02/20  6:00 PM               Kerala                       3   \n",
       "4  03/02/20  6:00 PM               Kerala                       3   \n",
       "\n",
       "  ConfirmedForeignNational  \n",
       "0                        0  \n",
       "1                        0  \n",
       "2                        0  \n",
       "3                        0  \n",
       "4                        0  "
      ]
     },
     "execution_count": 27,
     "metadata": {},
     "output_type": "execute_result"
    }
   ],
   "source": [
    "df_categorical=df.select_dtypes(include=['object'])\n",
    "df_categorical.head()"
   ]
  },
  {
   "cell_type": "code",
   "execution_count": 28,
   "id": "286fc43f",
   "metadata": {
    "scrolled": true
   },
   "outputs": [
    {
     "data": {
      "text/html": [
       "<div>\n",
       "<style scoped>\n",
       "    .dataframe tbody tr th:only-of-type {\n",
       "        vertical-align: middle;\n",
       "    }\n",
       "\n",
       "    .dataframe tbody tr th {\n",
       "        vertical-align: top;\n",
       "    }\n",
       "\n",
       "    .dataframe thead th {\n",
       "        text-align: right;\n",
       "    }\n",
       "</style>\n",
       "<table border=\"1\" class=\"dataframe\">\n",
       "  <thead>\n",
       "    <tr style=\"text-align: right;\">\n",
       "      <th></th>\n",
       "      <th>Date</th>\n",
       "      <th>Time</th>\n",
       "      <th>State/UnionTerritory</th>\n",
       "      <th>ConfirmedIndianNational</th>\n",
       "      <th>ConfirmedForeignNational</th>\n",
       "    </tr>\n",
       "  </thead>\n",
       "  <tbody>\n",
       "    <tr>\n",
       "      <th>0</th>\n",
       "      <td>129</td>\n",
       "      <td>2</td>\n",
       "      <td>19</td>\n",
       "      <td>2</td>\n",
       "      <td>1</td>\n",
       "    </tr>\n",
       "    <tr>\n",
       "      <th>1</th>\n",
       "      <td>133</td>\n",
       "      <td>2</td>\n",
       "      <td>19</td>\n",
       "      <td>2</td>\n",
       "      <td>1</td>\n",
       "    </tr>\n",
       "    <tr>\n",
       "      <th>2</th>\n",
       "      <td>0</td>\n",
       "      <td>2</td>\n",
       "      <td>19</td>\n",
       "      <td>21</td>\n",
       "      <td>1</td>\n",
       "    </tr>\n",
       "    <tr>\n",
       "      <th>3</th>\n",
       "      <td>5</td>\n",
       "      <td>2</td>\n",
       "      <td>19</td>\n",
       "      <td>31</td>\n",
       "      <td>1</td>\n",
       "    </tr>\n",
       "    <tr>\n",
       "      <th>4</th>\n",
       "      <td>10</td>\n",
       "      <td>2</td>\n",
       "      <td>19</td>\n",
       "      <td>31</td>\n",
       "      <td>1</td>\n",
       "    </tr>\n",
       "  </tbody>\n",
       "</table>\n",
       "</div>"
      ],
      "text/plain": [
       "   Date  Time  State/UnionTerritory  ConfirmedIndianNational  \\\n",
       "0   129     2                    19                        2   \n",
       "1   133     2                    19                        2   \n",
       "2     0     2                    19                       21   \n",
       "3     5     2                    19                       31   \n",
       "4    10     2                    19                       31   \n",
       "\n",
       "   ConfirmedForeignNational  \n",
       "0                         1  \n",
       "1                         1  \n",
       "2                         1  \n",
       "3                         1  \n",
       "4                         1  "
      ]
     },
     "execution_count": 28,
     "metadata": {},
     "output_type": "execute_result"
    }
   ],
   "source": [
    "from sklearn import preprocessing\n",
    "le=preprocessing.LabelEncoder()\n",
    "df_categorical=df_categorical.apply(le.fit_transform)\n",
    "df_categorical.head()"
   ]
  },
  {
   "cell_type": "code",
   "execution_count": 29,
   "id": "df8c9929",
   "metadata": {
    "scrolled": true
   },
   "outputs": [],
   "source": [
    "#Separating the hotel and the target\n",
    "X = df_categorical['Date']\n",
    "y = df['Confirmed']"
   ]
  },
  {
   "cell_type": "markdown",
   "id": "007b0b63",
   "metadata": {},
   "source": [
    "# TRAINING WITH SKLEARN."
   ]
  },
  {
   "cell_type": "code",
   "execution_count": 30,
   "id": "c3386c98",
   "metadata": {},
   "outputs": [],
   "source": [
    "from sklearn.model_selection import train_test_split\n",
    "from sklearn.ensemble import RandomForestClassifier\n",
    "from sklearn.dummy import DummyClassifier\n",
    "import matplotlib.pyplot as plt\n",
    "from sklearn.metrics import confusion_matrix\n",
    "from numpy import random"
   ]
  },
  {
   "cell_type": "code",
   "execution_count": 31,
   "id": "d5979a0a",
   "metadata": {},
   "outputs": [],
   "source": [
    "from sklearn.preprocessing import StandardScaler"
   ]
  },
  {
   "cell_type": "code",
   "execution_count": 32,
   "id": "6df886e2",
   "metadata": {},
   "outputs": [],
   "source": [
    "X_train, X_test, y_train, y_test = train_test_split(X, y, \n",
    "                                        test_size=0.3, random_state=42)"
   ]
  },
  {
   "cell_type": "code",
   "execution_count": 33,
   "id": "cb2075d0",
   "metadata": {},
   "outputs": [
    {
     "data": {
      "text/plain": [
       "1       263\n",
       "2       117\n",
       "7        92\n",
       "3        88\n",
       "33       63\n",
       "       ... \n",
       "321       1\n",
       "696       1\n",
       "6923      1\n",
       "8194      1\n",
       "7984      1\n",
       "Name: Confirmed, Length: 1281, dtype: int64"
      ]
     },
     "execution_count": 33,
     "metadata": {},
     "output_type": "execute_result"
    }
   ],
   "source": [
    "df['Confirmed'].value_counts()"
   ]
  },
  {
   "cell_type": "code",
   "execution_count": 34,
   "id": "13919d52",
   "metadata": {},
   "outputs": [
    {
     "data": {
      "text/plain": [
       "1       89\n",
       "2       39\n",
       "7       23\n",
       "3       20\n",
       "33      15\n",
       "        ..\n",
       "7233     1\n",
       "7998     1\n",
       "341      1\n",
       "1039     1\n",
       "272      1\n",
       "Name: Confirmed, Length: 491, dtype: int64"
      ]
     },
     "execution_count": 34,
     "metadata": {},
     "output_type": "execute_result"
    }
   ],
   "source": [
    "y_test.value_counts()"
   ]
  },
  {
   "cell_type": "code",
   "execution_count": 35,
   "id": "3f39ebf2",
   "metadata": {
    "scrolled": true
   },
   "outputs": [
    {
     "data": {
      "text/plain": [
       "1        174\n",
       "2         78\n",
       "7         69\n",
       "3         68\n",
       "33        48\n",
       "        ... \n",
       "6532       1\n",
       "2281       1\n",
       "5804       1\n",
       "14053      1\n",
       "2647       1\n",
       "Name: Confirmed, Length: 977, dtype: int64"
      ]
     },
     "execution_count": 35,
     "metadata": {},
     "output_type": "execute_result"
    }
   ],
   "source": [
    "y_train.value_counts()"
   ]
  },
  {
   "cell_type": "markdown",
   "id": "f73ef3b7",
   "metadata": {},
   "source": [
    "DUMMIE\n",
    "training with dummies helps set a foundation for others. all values worse than the dummies should not even be considered.\n",
    "\n",
    "With this I must check the values of the following:\n",
    "\n",
    "LINEAR REGRESSION\n",
    "\n",
    "RANDON FOREST\n",
    "\n",
    "\n",
    "All scores were better than dummies, this shows reliability with them."
   ]
  },
  {
   "cell_type": "code",
   "execution_count": 36,
   "id": "d51f6102",
   "metadata": {},
   "outputs": [
    {
     "data": {
      "text/plain": [
       "0.09910913140311804"
      ]
     },
     "execution_count": 36,
     "metadata": {},
     "output_type": "execute_result"
    }
   ],
   "source": [
    "##Train to Dummie (Baseline)\n",
    "Cld = DummyClassifier(strategy= 'most_frequent')\n",
    "Cld.fit(X_train,y_train)\n",
    "Cld.score(X_test,y_test)"
   ]
  },
  {
   "cell_type": "markdown",
   "id": "101462af",
   "metadata": {},
   "source": [
    "# Linear Regression"
   ]
  },
  {
   "cell_type": "code",
   "execution_count": 37,
   "id": "d54ae355",
   "metadata": {},
   "outputs": [],
   "source": [
    "from sklearn.linear_model import LinearRegression"
   ]
  },
  {
   "cell_type": "code",
   "execution_count": 38,
   "id": "3bad191a",
   "metadata": {},
   "outputs": [],
   "source": [
    "lr = LinearRegression()"
   ]
  },
  {
   "cell_type": "code",
   "execution_count": 39,
   "id": "e14e8bd7",
   "metadata": {
    "scrolled": true
   },
   "outputs": [
    {
     "data": {
      "text/plain": [
       "LinearRegression()"
      ]
     },
     "execution_count": 39,
     "metadata": {},
     "output_type": "execute_result"
    }
   ],
   "source": [
    "lr.fit(np.array(X_train).reshape(-1,1),np.array(y_train).reshape(-1,1))"
   ]
  },
  {
   "cell_type": "code",
   "execution_count": 40,
   "id": "ecf93c89",
   "metadata": {},
   "outputs": [
    {
     "data": {
      "text/plain": [
       "array([[-5850.09003301]])"
      ]
     },
     "execution_count": 40,
     "metadata": {},
     "output_type": "execute_result"
    }
   ],
   "source": [
    "lr.predict(np.array([[2020-7-19]]))"
   ]
  },
  {
   "cell_type": "markdown",
   "id": "76bd4198",
   "metadata": {},
   "source": [
    "# Random Forest"
   ]
  },
  {
   "cell_type": "code",
   "execution_count": 41,
   "id": "18bf08c2",
   "metadata": {},
   "outputs": [],
   "source": [
    "#Train to Random Forest Classifier with 100 diferents tree\n",
    "SEED=123123\n",
    "random.seed(SEED)\n",
    "\n",
    "X_train, X_test, y_train, y_test = train_test_split(X ,y, test_size =0.3)"
   ]
  },
  {
   "cell_type": "code",
   "execution_count": 42,
   "id": "bb4cbe5d",
   "metadata": {
    "scrolled": true
   },
   "outputs": [
    {
     "data": {
      "text/plain": [
       "RandomForestClassifier()"
      ]
     },
     "execution_count": 42,
     "metadata": {},
     "output_type": "execute_result"
    }
   ],
   "source": [
    "cls = RandomForestClassifier(n_estimators=100)\n",
    "cls.fit(np.array(X_train).reshape(-1,1),np.array(y_train).reshape(-1,1))\n"
   ]
  },
  {
   "cell_type": "code",
   "execution_count": 43,
   "id": "1bef7be9",
   "metadata": {},
   "outputs": [
    {
     "data": {
      "text/plain": [
       "array([1], dtype=int64)"
      ]
     },
     "execution_count": 43,
     "metadata": {},
     "output_type": "execute_result"
    }
   ],
   "source": [
    "cls.predict(np.array([[2020-7-19]]))"
   ]
  },
  {
   "cell_type": "markdown",
   "id": "f154d9b7",
   "metadata": {},
   "source": [
    "# Conclusion"
   ]
  },
  {
   "cell_type": "markdown",
   "id": "09524dd3",
   "metadata": {},
   "source": [
    "In this study I did the characterization of the dataset: size; number of attributes; has/does not have missing values, number of observations, etc.\n",
    "\n",
    "I used the Data Preparation/Evaluation Methods Application and Exploratory Data Analysis Views.\n",
    "\n",
    "I introduced sizing and feature engineering as needed, detailing the decisions and rationale behind the chosen techniques\n",
    "\n",
    "Talking about Machine Learning models, I used 2 differents models: Random Forest and Linear Regression, but the model that had the best-balanced result and presented the best computational cost was the Random Forest model with an array 1. "
   ]
  }
 ],
 "metadata": {
  "kernelspec": {
   "display_name": "Python 3 (ipykernel)",
   "language": "python",
   "name": "python3"
  },
  "language_info": {
   "codemirror_mode": {
    "name": "ipython",
    "version": 3
   },
   "file_extension": ".py",
   "mimetype": "text/x-python",
   "name": "python",
   "nbconvert_exporter": "python",
   "pygments_lexer": "ipython3",
   "version": "3.9.13"
  }
 },
 "nbformat": 4,
 "nbformat_minor": 5
}
