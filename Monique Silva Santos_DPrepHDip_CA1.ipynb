{
 "cells": [
  {
   "cell_type": "markdown",
   "metadata": {},
   "source": [
    "# CA1_DataPrep_HDip"
   ]
  },
  {
   "cell_type": "markdown",
   "metadata": {},
   "source": [
    "## Introduction\n",
    "Air Pressure System (APS) in trucks generates pressurized air that is used for various functions of trucks such as braking and gear changes.\n",
    "The offered dataset positive class comprises of component failures for a certain APS system component. \n",
    "Trucks in the negative class have failed for reasons unrelated to the APS. For proprietary reasons, dataset attributes are anonymised. This is a problem of binary classification."
   ]
  },
  {
   "cell_type": "markdown",
   "metadata": {},
   "source": [
    "## EDA and Data preparation"
   ]
  },
  {
   "cell_type": "markdown",
   "metadata": {},
   "source": [
    "Load the pandas, seaborn, numpy and matplotlib libraries into a Jupyter notebook:"
   ]
  },
  {
   "cell_type": "code",
   "execution_count": 1,
   "metadata": {},
   "outputs": [],
   "source": [
    "#Load library\n",
    "import pandas as pd\n",
    "import seaborn as sns \n",
    "import numpy as np\n",
    "import matplotlib.pyplot as plt"
   ]
  },
  {
   "cell_type": "markdown",
   "metadata": {},
   "source": [
    "Read dataset in csv format (read_csv)"
   ]
  },
  {
   "cell_type": "code",
   "execution_count": 2,
   "metadata": {},
   "outputs": [],
   "source": [
    "df = pd.read_csv('aps_failure_set.csv')"
   ]
  },
  {
   "cell_type": "markdown",
   "metadata": {},
   "source": [
    "The function head(), provide information from the first 5 lines of the dataset.\n",
    "The first column \"class\" is a target set (label)"
   ]
  },
  {
   "cell_type": "code",
   "execution_count": 3,
   "metadata": {},
   "outputs": [
    {
     "data": {
      "text/html": [
       "<div>\n",
       "<style scoped>\n",
       "    .dataframe tbody tr th:only-of-type {\n",
       "        vertical-align: middle;\n",
       "    }\n",
       "\n",
       "    .dataframe tbody tr th {\n",
       "        vertical-align: top;\n",
       "    }\n",
       "\n",
       "    .dataframe thead th {\n",
       "        text-align: right;\n",
       "    }\n",
       "</style>\n",
       "<table border=\"1\" class=\"dataframe\">\n",
       "  <thead>\n",
       "    <tr style=\"text-align: right;\">\n",
       "      <th></th>\n",
       "      <th>class</th>\n",
       "      <th>aa_000</th>\n",
       "      <th>ab_000</th>\n",
       "      <th>ac_000</th>\n",
       "      <th>ad_000</th>\n",
       "      <th>ae_000</th>\n",
       "      <th>af_000</th>\n",
       "      <th>ag_000</th>\n",
       "      <th>ag_001</th>\n",
       "      <th>ag_002</th>\n",
       "      <th>...</th>\n",
       "      <th>ee_002</th>\n",
       "      <th>ee_003</th>\n",
       "      <th>ee_004</th>\n",
       "      <th>ee_005</th>\n",
       "      <th>ee_006</th>\n",
       "      <th>ee_007</th>\n",
       "      <th>ee_008</th>\n",
       "      <th>ee_009</th>\n",
       "      <th>ef_000</th>\n",
       "      <th>eg_000</th>\n",
       "    </tr>\n",
       "  </thead>\n",
       "  <tbody>\n",
       "    <tr>\n",
       "      <th>0</th>\n",
       "      <td>neg</td>\n",
       "      <td>76698</td>\n",
       "      <td>na</td>\n",
       "      <td>2130706438</td>\n",
       "      <td>280</td>\n",
       "      <td>0</td>\n",
       "      <td>0</td>\n",
       "      <td>0</td>\n",
       "      <td>0</td>\n",
       "      <td>0</td>\n",
       "      <td>...</td>\n",
       "      <td>1240520</td>\n",
       "      <td>493384</td>\n",
       "      <td>721044</td>\n",
       "      <td>469792</td>\n",
       "      <td>339156</td>\n",
       "      <td>157956</td>\n",
       "      <td>73224</td>\n",
       "      <td>0</td>\n",
       "      <td>0</td>\n",
       "      <td>0</td>\n",
       "    </tr>\n",
       "    <tr>\n",
       "      <th>1</th>\n",
       "      <td>neg</td>\n",
       "      <td>33058</td>\n",
       "      <td>na</td>\n",
       "      <td>0</td>\n",
       "      <td>na</td>\n",
       "      <td>0</td>\n",
       "      <td>0</td>\n",
       "      <td>0</td>\n",
       "      <td>0</td>\n",
       "      <td>0</td>\n",
       "      <td>...</td>\n",
       "      <td>421400</td>\n",
       "      <td>178064</td>\n",
       "      <td>293306</td>\n",
       "      <td>245416</td>\n",
       "      <td>133654</td>\n",
       "      <td>81140</td>\n",
       "      <td>97576</td>\n",
       "      <td>1500</td>\n",
       "      <td>0</td>\n",
       "      <td>0</td>\n",
       "    </tr>\n",
       "    <tr>\n",
       "      <th>2</th>\n",
       "      <td>neg</td>\n",
       "      <td>41040</td>\n",
       "      <td>na</td>\n",
       "      <td>228</td>\n",
       "      <td>100</td>\n",
       "      <td>0</td>\n",
       "      <td>0</td>\n",
       "      <td>0</td>\n",
       "      <td>0</td>\n",
       "      <td>0</td>\n",
       "      <td>...</td>\n",
       "      <td>277378</td>\n",
       "      <td>159812</td>\n",
       "      <td>423992</td>\n",
       "      <td>409564</td>\n",
       "      <td>320746</td>\n",
       "      <td>158022</td>\n",
       "      <td>95128</td>\n",
       "      <td>514</td>\n",
       "      <td>0</td>\n",
       "      <td>0</td>\n",
       "    </tr>\n",
       "    <tr>\n",
       "      <th>3</th>\n",
       "      <td>neg</td>\n",
       "      <td>12</td>\n",
       "      <td>0</td>\n",
       "      <td>70</td>\n",
       "      <td>66</td>\n",
       "      <td>0</td>\n",
       "      <td>10</td>\n",
       "      <td>0</td>\n",
       "      <td>0</td>\n",
       "      <td>0</td>\n",
       "      <td>...</td>\n",
       "      <td>240</td>\n",
       "      <td>46</td>\n",
       "      <td>58</td>\n",
       "      <td>44</td>\n",
       "      <td>10</td>\n",
       "      <td>0</td>\n",
       "      <td>0</td>\n",
       "      <td>0</td>\n",
       "      <td>4</td>\n",
       "      <td>32</td>\n",
       "    </tr>\n",
       "    <tr>\n",
       "      <th>4</th>\n",
       "      <td>neg</td>\n",
       "      <td>60874</td>\n",
       "      <td>na</td>\n",
       "      <td>1368</td>\n",
       "      <td>458</td>\n",
       "      <td>0</td>\n",
       "      <td>0</td>\n",
       "      <td>0</td>\n",
       "      <td>0</td>\n",
       "      <td>0</td>\n",
       "      <td>...</td>\n",
       "      <td>622012</td>\n",
       "      <td>229790</td>\n",
       "      <td>405298</td>\n",
       "      <td>347188</td>\n",
       "      <td>286954</td>\n",
       "      <td>311560</td>\n",
       "      <td>433954</td>\n",
       "      <td>1218</td>\n",
       "      <td>0</td>\n",
       "      <td>0</td>\n",
       "    </tr>\n",
       "  </tbody>\n",
       "</table>\n",
       "<p>5 rows × 171 columns</p>\n",
       "</div>"
      ],
      "text/plain": [
       "  class  aa_000 ab_000      ac_000 ad_000 ae_000 af_000 ag_000 ag_001 ag_002  \\\n",
       "0   neg   76698     na  2130706438    280      0      0      0      0      0   \n",
       "1   neg   33058     na           0     na      0      0      0      0      0   \n",
       "2   neg   41040     na         228    100      0      0      0      0      0   \n",
       "3   neg      12      0          70     66      0     10      0      0      0   \n",
       "4   neg   60874     na        1368    458      0      0      0      0      0   \n",
       "\n",
       "   ...   ee_002  ee_003  ee_004  ee_005  ee_006  ee_007  ee_008 ee_009 ef_000  \\\n",
       "0  ...  1240520  493384  721044  469792  339156  157956   73224      0      0   \n",
       "1  ...   421400  178064  293306  245416  133654   81140   97576   1500      0   \n",
       "2  ...   277378  159812  423992  409564  320746  158022   95128    514      0   \n",
       "3  ...      240      46      58      44      10       0       0      0      4   \n",
       "4  ...   622012  229790  405298  347188  286954  311560  433954   1218      0   \n",
       "\n",
       "  eg_000  \n",
       "0      0  \n",
       "1      0  \n",
       "2      0  \n",
       "3     32  \n",
       "4      0  \n",
       "\n",
       "[5 rows x 171 columns]"
      ]
     },
     "execution_count": 3,
     "metadata": {},
     "output_type": "execute_result"
    }
   ],
   "source": [
    "df.head()"
   ]
  },
  {
   "cell_type": "markdown",
   "metadata": {},
   "source": [
    "The function counts(), it returns the number of times a specified value appears in a string or a list."
   ]
  },
  {
   "cell_type": "code",
   "execution_count": 4,
   "metadata": {},
   "outputs": [
    {
     "data": {
      "text/plain": [
       "neg    59000\n",
       "pos     1000\n",
       "Name: class, dtype: int64"
      ]
     },
     "execution_count": 4,
     "metadata": {},
     "output_type": "execute_result"
    }
   ],
   "source": [
    "df['class'].value_counts()"
   ]
  },
  {
   "cell_type": "code",
   "execution_count": 59,
   "metadata": {},
   "outputs": [
    {
     "data": {
      "image/png": "[encoded data removed]",
      "text/plain": [
       "<Figure size 432x288 with 1 Axes>"
      ]
     },
     "metadata": {
      "needs_background": "light"
     },
     "output_type": "display_data"
    }
   ],
   "source": [
    "sns.countplot(x='class', data=df)\n",
    "plt.show()"
   ]
  },
  {
   "cell_type": "markdown",
   "metadata": {},
   "source": [
    "The function shape shows the number of rows and columns that exist in the dataset. The first value, 60000, represents the number of rows, while the second value, 171, represents the number of columns"
   ]
  },
  {
   "cell_type": "code",
   "execution_count": 6,
   "metadata": {},
   "outputs": [
    {
     "data": {
      "text/plain": [
       "(60000, 171)"
      ]
     },
     "execution_count": 6,
     "metadata": {},
     "output_type": "execute_result"
    }
   ],
   "source": [
    "df.shape"
   ]
  },
  {
   "cell_type": "markdown",
   "metadata": {},
   "source": [
    "The function column, shows all the columns that exist in the dataset"
   ]
  },
  {
   "cell_type": "code",
   "execution_count": 7,
   "metadata": {},
   "outputs": [
    {
     "data": {
      "text/plain": [
       "Index(['class', 'aa_000', 'ab_000', 'ac_000', 'ad_000', 'ae_000', 'af_000',\n",
       "       'ag_000', 'ag_001', 'ag_002',\n",
       "       ...\n",
       "       'ee_002', 'ee_003', 'ee_004', 'ee_005', 'ee_006', 'ee_007', 'ee_008',\n",
       "       'ee_009', 'ef_000', 'eg_000'],\n",
       "      dtype='object', length=171)"
      ]
     },
     "execution_count": 7,
     "metadata": {},
     "output_type": "execute_result"
    }
   ],
   "source": [
    "df.columns"
   ]
  },
  {
   "cell_type": "markdown",
   "metadata": {},
   "source": [
    "The function dtypes, shows the data type"
   ]
  },
  {
   "cell_type": "code",
   "execution_count": 8,
   "metadata": {},
   "outputs": [
    {
     "data": {
      "text/plain": [
       "class     object\n",
       "aa_000     int64\n",
       "ab_000    object\n",
       "ac_000    object\n",
       "ad_000    object\n",
       "           ...  \n",
       "ee_007    object\n",
       "ee_008    object\n",
       "ee_009    object\n",
       "ef_000    object\n",
       "eg_000    object\n",
       "Length: 171, dtype: object"
      ]
     },
     "execution_count": 8,
     "metadata": {},
     "output_type": "execute_result"
    }
   ],
   "source": [
    "df.dtypes"
   ]
  },
  {
   "cell_type": "markdown",
   "metadata": {},
   "source": [
    "The function describe, shows a summary of statistics pertaining to the data columns and gives the mean, std and IQR values"
   ]
  },
  {
   "cell_type": "code",
   "execution_count": 77,
   "metadata": {},
   "outputs": [
    {
     "data": {
      "text/html": [
       "<div>\n",
       "<style scoped>\n",
       "    .dataframe tbody tr th:only-of-type {\n",
       "        vertical-align: middle;\n",
       "    }\n",
       "\n",
       "    .dataframe tbody tr th {\n",
       "        vertical-align: top;\n",
       "    }\n",
       "\n",
       "    .dataframe thead th {\n",
       "        text-align: right;\n",
       "    }\n",
       "</style>\n",
       "<table border=\"1\" class=\"dataframe\">\n",
       "  <thead>\n",
       "    <tr style=\"text-align: right;\">\n",
       "      <th></th>\n",
       "      <th>aa_000</th>\n",
       "      <th>ab_000</th>\n",
       "      <th>ac_000</th>\n",
       "      <th>ad_000</th>\n",
       "      <th>ae_000</th>\n",
       "      <th>af_000</th>\n",
       "      <th>ag_000</th>\n",
       "      <th>ag_001</th>\n",
       "      <th>ag_002</th>\n",
       "      <th>ag_003</th>\n",
       "      <th>...</th>\n",
       "      <th>ee_005</th>\n",
       "      <th>ee_006</th>\n",
       "      <th>ee_007</th>\n",
       "      <th>ee_008</th>\n",
       "      <th>ee_009</th>\n",
       "      <th>ef_000</th>\n",
       "      <th>eg_000</th>\n",
       "      <th>PCA1</th>\n",
       "      <th>PCA2</th>\n",
       "      <th>PCA3</th>\n",
       "    </tr>\n",
       "  </thead>\n",
       "  <tbody>\n",
       "    <tr>\n",
       "      <th>count</th>\n",
       "      <td>6.000000e+04</td>\n",
       "      <td>13671.000000</td>\n",
       "      <td>5.666500e+04</td>\n",
       "      <td>4.513900e+04</td>\n",
       "      <td>57500.000000</td>\n",
       "      <td>57500.000000</td>\n",
       "      <td>5.932900e+04</td>\n",
       "      <td>5.932900e+04</td>\n",
       "      <td>5.932900e+04</td>\n",
       "      <td>5.932900e+04</td>\n",
       "      <td>...</td>\n",
       "      <td>5.932900e+04</td>\n",
       "      <td>5.932900e+04</td>\n",
       "      <td>5.932900e+04</td>\n",
       "      <td>5.932900e+04</td>\n",
       "      <td>5.932900e+04</td>\n",
       "      <td>57276.000000</td>\n",
       "      <td>57277.000000</td>\n",
       "      <td>6.000000e+04</td>\n",
       "      <td>6.000000e+04</td>\n",
       "      <td>6.000000e+04</td>\n",
       "    </tr>\n",
       "    <tr>\n",
       "      <th>mean</th>\n",
       "      <td>5.933650e+04</td>\n",
       "      <td>0.713189</td>\n",
       "      <td>3.560143e+08</td>\n",
       "      <td>1.906206e+05</td>\n",
       "      <td>6.819130</td>\n",
       "      <td>11.006817</td>\n",
       "      <td>2.216364e+02</td>\n",
       "      <td>9.757223e+02</td>\n",
       "      <td>8.606015e+03</td>\n",
       "      <td>8.859128e+04</td>\n",
       "      <td>...</td>\n",
       "      <td>3.939462e+05</td>\n",
       "      <td>3.330582e+05</td>\n",
       "      <td>3.462714e+05</td>\n",
       "      <td>1.387300e+05</td>\n",
       "      <td>8.388915e+03</td>\n",
       "      <td>0.090579</td>\n",
       "      <td>0.212756</td>\n",
       "      <td>-5.838275e-09</td>\n",
       "      <td>3.978610e-10</td>\n",
       "      <td>9.386955e-10</td>\n",
       "    </tr>\n",
       "    <tr>\n",
       "      <th>std</th>\n",
       "      <td>1.454301e+05</td>\n",
       "      <td>3.478962</td>\n",
       "      <td>7.948749e+08</td>\n",
       "      <td>4.040441e+07</td>\n",
       "      <td>161.543373</td>\n",
       "      <td>209.792592</td>\n",
       "      <td>2.047846e+04</td>\n",
       "      <td>3.420053e+04</td>\n",
       "      <td>1.503220e+05</td>\n",
       "      <td>7.617312e+05</td>\n",
       "      <td>...</td>\n",
       "      <td>1.121044e+06</td>\n",
       "      <td>1.069160e+06</td>\n",
       "      <td>1.728056e+06</td>\n",
       "      <td>4.495100e+05</td>\n",
       "      <td>4.747043e+04</td>\n",
       "      <td>4.368855</td>\n",
       "      <td>8.830641</td>\n",
       "      <td>7.767710e+08</td>\n",
       "      <td>9.548981e+07</td>\n",
       "      <td>6.070011e+07</td>\n",
       "    </tr>\n",
       "    <tr>\n",
       "      <th>min</th>\n",
       "      <td>0.000000e+00</td>\n",
       "      <td>0.000000</td>\n",
       "      <td>0.000000e+00</td>\n",
       "      <td>0.000000e+00</td>\n",
       "      <td>0.000000</td>\n",
       "      <td>0.000000</td>\n",
       "      <td>0.000000e+00</td>\n",
       "      <td>0.000000e+00</td>\n",
       "      <td>0.000000e+00</td>\n",
       "      <td>0.000000e+00</td>\n",
       "      <td>...</td>\n",
       "      <td>0.000000e+00</td>\n",
       "      <td>0.000000e+00</td>\n",
       "      <td>0.000000e+00</td>\n",
       "      <td>0.000000e+00</td>\n",
       "      <td>0.000000e+00</td>\n",
       "      <td>0.000000</td>\n",
       "      <td>0.000000</td>\n",
       "      <td>-3.498421e+08</td>\n",
       "      <td>-1.030149e+07</td>\n",
       "      <td>-2.412865e+06</td>\n",
       "    </tr>\n",
       "    <tr>\n",
       "      <th>25%</th>\n",
       "      <td>8.340000e+02</td>\n",
       "      <td>0.000000</td>\n",
       "      <td>1.600000e+01</td>\n",
       "      <td>2.400000e+01</td>\n",
       "      <td>0.000000</td>\n",
       "      <td>0.000000</td>\n",
       "      <td>0.000000e+00</td>\n",
       "      <td>0.000000e+00</td>\n",
       "      <td>0.000000e+00</td>\n",
       "      <td>0.000000e+00</td>\n",
       "      <td>...</td>\n",
       "      <td>3.584000e+03</td>\n",
       "      <td>5.120000e+02</td>\n",
       "      <td>1.100000e+02</td>\n",
       "      <td>0.000000e+00</td>\n",
       "      <td>0.000000e+00</td>\n",
       "      <td>0.000000</td>\n",
       "      <td>0.000000</td>\n",
       "      <td>-3.362006e+08</td>\n",
       "      <td>-6.225335e+06</td>\n",
       "      <td>-2.849232e+05</td>\n",
       "    </tr>\n",
       "    <tr>\n",
       "      <th>50%</th>\n",
       "      <td>3.077600e+04</td>\n",
       "      <td>0.000000</td>\n",
       "      <td>1.520000e+02</td>\n",
       "      <td>1.260000e+02</td>\n",
       "      <td>0.000000</td>\n",
       "      <td>0.000000</td>\n",
       "      <td>0.000000e+00</td>\n",
       "      <td>0.000000e+00</td>\n",
       "      <td>0.000000e+00</td>\n",
       "      <td>0.000000e+00</td>\n",
       "      <td>...</td>\n",
       "      <td>1.899880e+05</td>\n",
       "      <td>9.243200e+04</td>\n",
       "      <td>4.109800e+04</td>\n",
       "      <td>3.812000e+03</td>\n",
       "      <td>0.000000e+00</td>\n",
       "      <td>0.000000</td>\n",
       "      <td>0.000000</td>\n",
       "      <td>-3.361745e+08</td>\n",
       "      <td>-5.527082e+06</td>\n",
       "      <td>-2.690840e+05</td>\n",
       "    </tr>\n",
       "    <tr>\n",
       "      <th>75%</th>\n",
       "      <td>4.866800e+04</td>\n",
       "      <td>0.000000</td>\n",
       "      <td>9.640000e+02</td>\n",
       "      <td>4.300000e+02</td>\n",
       "      <td>0.000000</td>\n",
       "      <td>0.000000</td>\n",
       "      <td>0.000000e+00</td>\n",
       "      <td>0.000000e+00</td>\n",
       "      <td>0.000000e+00</td>\n",
       "      <td>0.000000e+00</td>\n",
       "      <td>...</td>\n",
       "      <td>4.032220e+05</td>\n",
       "      <td>2.750940e+05</td>\n",
       "      <td>1.678140e+05</td>\n",
       "      <td>1.397240e+05</td>\n",
       "      <td>2.028000e+03</td>\n",
       "      <td>0.000000</td>\n",
       "      <td>0.000000</td>\n",
       "      <td>-3.361692e+08</td>\n",
       "      <td>-2.689295e+06</td>\n",
       "      <td>-2.629754e+05</td>\n",
       "    </tr>\n",
       "    <tr>\n",
       "      <th>max</th>\n",
       "      <td>2.746564e+06</td>\n",
       "      <td>204.000000</td>\n",
       "      <td>2.130707e+09</td>\n",
       "      <td>8.584298e+09</td>\n",
       "      <td>21050.000000</td>\n",
       "      <td>20070.000000</td>\n",
       "      <td>3.376892e+06</td>\n",
       "      <td>4.109372e+06</td>\n",
       "      <td>1.055286e+07</td>\n",
       "      <td>6.340207e+07</td>\n",
       "      <td>...</td>\n",
       "      <td>5.743524e+07</td>\n",
       "      <td>3.160781e+07</td>\n",
       "      <td>1.195801e+08</td>\n",
       "      <td>1.926740e+07</td>\n",
       "      <td>3.810078e+06</td>\n",
       "      <td>482.000000</td>\n",
       "      <td>1146.000000</td>\n",
       "      <td>1.794835e+09</td>\n",
       "      <td>6.339378e+09</td>\n",
       "      <td>1.486814e+10</td>\n",
       "    </tr>\n",
       "  </tbody>\n",
       "</table>\n",
       "<p>8 rows × 173 columns</p>\n",
       "</div>"
      ],
      "text/plain": [
       "             aa_000        ab_000        ac_000        ad_000        ae_000  \\\n",
       "count  6.000000e+04  13671.000000  5.666500e+04  4.513900e+04  57500.000000   \n",
       "mean   5.933650e+04      0.713189  3.560143e+08  1.906206e+05      6.819130   \n",
       "std    1.454301e+05      3.478962  7.948749e+08  4.040441e+07    161.543373   \n",
       "min    0.000000e+00      0.000000  0.000000e+00  0.000000e+00      0.000000   \n",
       "25%    8.340000e+02      0.000000  1.600000e+01  2.400000e+01      0.000000   \n",
       "50%    3.077600e+04      0.000000  1.520000e+02  1.260000e+02      0.000000   \n",
       "75%    4.866800e+04      0.000000  9.640000e+02  4.300000e+02      0.000000   \n",
       "max    2.746564e+06    204.000000  2.130707e+09  8.584298e+09  21050.000000   \n",
       "\n",
       "             af_000        ag_000        ag_001        ag_002        ag_003  \\\n",
       "count  57500.000000  5.932900e+04  5.932900e+04  5.932900e+04  5.932900e+04   \n",
       "mean      11.006817  2.216364e+02  9.757223e+02  8.606015e+03  8.859128e+04   \n",
       "std      209.792592  2.047846e+04  3.420053e+04  1.503220e+05  7.617312e+05   \n",
       "min        0.000000  0.000000e+00  0.000000e+00  0.000000e+00  0.000000e+00   \n",
       "25%        0.000000  0.000000e+00  0.000000e+00  0.000000e+00  0.000000e+00   \n",
       "50%        0.000000  0.000000e+00  0.000000e+00  0.000000e+00  0.000000e+00   \n",
       "75%        0.000000  0.000000e+00  0.000000e+00  0.000000e+00  0.000000e+00   \n",
       "max    20070.000000  3.376892e+06  4.109372e+06  1.055286e+07  6.340207e+07   \n",
       "\n",
       "       ...        ee_005        ee_006        ee_007        ee_008  \\\n",
       "count  ...  5.932900e+04  5.932900e+04  5.932900e+04  5.932900e+04   \n",
       "mean   ...  3.939462e+05  3.330582e+05  3.462714e+05  1.387300e+05   \n",
       "std    ...  1.121044e+06  1.069160e+06  1.728056e+06  4.495100e+05   \n",
       "min    ...  0.000000e+00  0.000000e+00  0.000000e+00  0.000000e+00   \n",
       "25%    ...  3.584000e+03  5.120000e+02  1.100000e+02  0.000000e+00   \n",
       "50%    ...  1.899880e+05  9.243200e+04  4.109800e+04  3.812000e+03   \n",
       "75%    ...  4.032220e+05  2.750940e+05  1.678140e+05  1.397240e+05   \n",
       "max    ...  5.743524e+07  3.160781e+07  1.195801e+08  1.926740e+07   \n",
       "\n",
       "             ee_009        ef_000        eg_000          PCA1          PCA2  \\\n",
       "count  5.932900e+04  57276.000000  57277.000000  6.000000e+04  6.000000e+04   \n",
       "mean   8.388915e+03      0.090579      0.212756 -5.838275e-09  3.978610e-10   \n",
       "std    4.747043e+04      4.368855      8.830641  7.767710e+08  9.548981e+07   \n",
       "min    0.000000e+00      0.000000      0.000000 -3.498421e+08 -1.030149e+07   \n",
       "25%    0.000000e+00      0.000000      0.000000 -3.362006e+08 -6.225335e+06   \n",
       "50%    0.000000e+00      0.000000      0.000000 -3.361745e+08 -5.527082e+06   \n",
       "75%    2.028000e+03      0.000000      0.000000 -3.361692e+08 -2.689295e+06   \n",
       "max    3.810078e+06    482.000000   1146.000000  1.794835e+09  6.339378e+09   \n",
       "\n",
       "               PCA3  \n",
       "count  6.000000e+04  \n",
       "mean   9.386955e-10  \n",
       "std    6.070011e+07  \n",
       "min   -2.412865e+06  \n",
       "25%   -2.849232e+05  \n",
       "50%   -2.690840e+05  \n",
       "75%   -2.629754e+05  \n",
       "max    1.486814e+10  \n",
       "\n",
       "[8 rows x 173 columns]"
      ]
     },
     "execution_count": 77,
     "metadata": {},
     "output_type": "execute_result"
    }
   ],
   "source": [
    "df.describe()"
   ]
  },
  {
   "cell_type": "code",
   "execution_count": 58,
   "metadata": {},
   "outputs": [
    {
     "data": {
      "image/png": "[encoded data removed]",
      "text/plain": [
       "<Figure size 432x288 with 1 Axes>"
      ]
     },
     "metadata": {
      "needs_background": "light"
     },
     "output_type": "display_data"
    }
   ],
   "source": [
    "sns.boxplot(x='class',y='aa_000', data=df).set_title('Box plot for class and feature aa_000')\n",
    "plt.show()"
   ]
  },
  {
   "cell_type": "markdown",
   "metadata": {},
   "source": [
    "Only the aa_000 feature is shown in the graphic. Max, min values, outliers of both positive and negative class can be observed from above plot. Plot shows that negative class has more outliers and positive class is dominating when compared to negative."
   ]
  },
  {
   "cell_type": "code",
   "execution_count": 74,
   "metadata": {},
   "outputs": [
    {
     "name": "stderr",
     "output_type": "stream",
     "text": [
      "C:\\Users\\My PC\\anaconda3\\lib\\site-packages\\seaborn\\axisgrid.py:316: UserWarning: The `size` parameter has been renamed to `height`; please update your code.\n",
      "  warnings.warn(msg, UserWarning)\n",
      "C:\\Users\\My PC\\anaconda3\\lib\\site-packages\\seaborn\\distributions.py:2551: FutureWarning: `distplot` is a deprecated function and will be removed in a future version. Please adapt your code to use either `displot` (a figure-level function with similar flexibility) or `histplot` (an axes-level function for histograms).\n",
      "  warnings.warn(msg, FutureWarning)\n",
      "C:\\Users\\My PC\\anaconda3\\lib\\site-packages\\seaborn\\distributions.py:2551: FutureWarning: `distplot` is a deprecated function and will be removed in a future version. Please adapt your code to use either `displot` (a figure-level function with similar flexibility) or `histplot` (an axes-level function for histograms).\n",
      "  warnings.warn(msg, FutureWarning)\n"
     ]
    },
    {
     "data": {
      "image/png": "[encoded data removed]",
      "text/plain": [
       "<Figure size 630.875x576 with 1 Axes>"
      ]
     },
     "metadata": {
      "needs_background": "light"
     },
     "output_type": "display_data"
    }
   ],
   "source": [
    "sns.FacetGrid(df, hue='class', size=8).map(sns.distplot, 'aa_000').add_legend()\n",
    "plt.title('Histogram of aa_000')\n",
    "plt.show()"
   ]
  },
  {
   "cell_type": "markdown",
   "metadata": {},
   "source": [
    "Only the aa_000 feature is shown in the graphic. Plot shows the distribution of positive and negative classes. Spread of positive class is more than negative, and values of positive class are below 0 as well. Positive class has long ending tail compared to negative class. Negative class has peak more than positive class."
   ]
  },
  {
   "cell_type": "markdown",
   "metadata": {},
   "source": [
    "The function Info, It returns the various information of the Data such as index type, dtype, columns, non-values, and memory usage. It gives a quick overview of the dataset."
   ]
  },
  {
   "cell_type": "code",
   "execution_count": 52,
   "metadata": {},
   "outputs": [
    {
     "name": "stdout",
     "output_type": "stream",
     "text": [
      "<class 'pandas.core.frame.DataFrame'>\n",
      "RangeIndex: 60000 entries, 0 to 59999\n",
      "Columns: 174 entries, class to PCA3\n",
      "dtypes: float64(172), int64(1), object(1)\n",
      "memory usage: 79.7+ MB\n"
     ]
    }
   ],
   "source": [
    "df.info()"
   ]
  },
  {
   "cell_type": "markdown",
   "metadata": {},
   "source": [
    "The function below identifies the values in blanks and transforms them into NaN, doing this python can identify these values as numeric"
   ]
  },
  {
   "cell_type": "code",
   "execution_count": 11,
   "metadata": {},
   "outputs": [
    {
     "data": {
      "text/html": [
       "<div>\n",
       "<style scoped>\n",
       "    .dataframe tbody tr th:only-of-type {\n",
       "        vertical-align: middle;\n",
       "    }\n",
       "\n",
       "    .dataframe tbody tr th {\n",
       "        vertical-align: top;\n",
       "    }\n",
       "\n",
       "    .dataframe thead th {\n",
       "        text-align: right;\n",
       "    }\n",
       "</style>\n",
       "<table border=\"1\" class=\"dataframe\">\n",
       "  <thead>\n",
       "    <tr style=\"text-align: right;\">\n",
       "      <th></th>\n",
       "      <th>class</th>\n",
       "      <th>aa_000</th>\n",
       "      <th>ab_000</th>\n",
       "      <th>ac_000</th>\n",
       "      <th>ad_000</th>\n",
       "      <th>ae_000</th>\n",
       "      <th>af_000</th>\n",
       "      <th>ag_000</th>\n",
       "      <th>ag_001</th>\n",
       "      <th>ag_002</th>\n",
       "      <th>...</th>\n",
       "      <th>ee_002</th>\n",
       "      <th>ee_003</th>\n",
       "      <th>ee_004</th>\n",
       "      <th>ee_005</th>\n",
       "      <th>ee_006</th>\n",
       "      <th>ee_007</th>\n",
       "      <th>ee_008</th>\n",
       "      <th>ee_009</th>\n",
       "      <th>ef_000</th>\n",
       "      <th>eg_000</th>\n",
       "    </tr>\n",
       "  </thead>\n",
       "  <tbody>\n",
       "    <tr>\n",
       "      <th>0</th>\n",
       "      <td>neg</td>\n",
       "      <td>76698</td>\n",
       "      <td>NaN</td>\n",
       "      <td>2.130706e+09</td>\n",
       "      <td>280.0</td>\n",
       "      <td>0.0</td>\n",
       "      <td>0.0</td>\n",
       "      <td>0.0</td>\n",
       "      <td>0.0</td>\n",
       "      <td>0.0</td>\n",
       "      <td>...</td>\n",
       "      <td>1240520.0</td>\n",
       "      <td>493384.0</td>\n",
       "      <td>721044.0</td>\n",
       "      <td>469792.0</td>\n",
       "      <td>339156.0</td>\n",
       "      <td>157956.0</td>\n",
       "      <td>73224.0</td>\n",
       "      <td>0.0</td>\n",
       "      <td>0.0</td>\n",
       "      <td>0.0</td>\n",
       "    </tr>\n",
       "    <tr>\n",
       "      <th>1</th>\n",
       "      <td>neg</td>\n",
       "      <td>33058</td>\n",
       "      <td>NaN</td>\n",
       "      <td>0.000000e+00</td>\n",
       "      <td>NaN</td>\n",
       "      <td>0.0</td>\n",
       "      <td>0.0</td>\n",
       "      <td>0.0</td>\n",
       "      <td>0.0</td>\n",
       "      <td>0.0</td>\n",
       "      <td>...</td>\n",
       "      <td>421400.0</td>\n",
       "      <td>178064.0</td>\n",
       "      <td>293306.0</td>\n",
       "      <td>245416.0</td>\n",
       "      <td>133654.0</td>\n",
       "      <td>81140.0</td>\n",
       "      <td>97576.0</td>\n",
       "      <td>1500.0</td>\n",
       "      <td>0.0</td>\n",
       "      <td>0.0</td>\n",
       "    </tr>\n",
       "    <tr>\n",
       "      <th>2</th>\n",
       "      <td>neg</td>\n",
       "      <td>41040</td>\n",
       "      <td>NaN</td>\n",
       "      <td>2.280000e+02</td>\n",
       "      <td>100.0</td>\n",
       "      <td>0.0</td>\n",
       "      <td>0.0</td>\n",
       "      <td>0.0</td>\n",
       "      <td>0.0</td>\n",
       "      <td>0.0</td>\n",
       "      <td>...</td>\n",
       "      <td>277378.0</td>\n",
       "      <td>159812.0</td>\n",
       "      <td>423992.0</td>\n",
       "      <td>409564.0</td>\n",
       "      <td>320746.0</td>\n",
       "      <td>158022.0</td>\n",
       "      <td>95128.0</td>\n",
       "      <td>514.0</td>\n",
       "      <td>0.0</td>\n",
       "      <td>0.0</td>\n",
       "    </tr>\n",
       "    <tr>\n",
       "      <th>3</th>\n",
       "      <td>neg</td>\n",
       "      <td>12</td>\n",
       "      <td>0.0</td>\n",
       "      <td>7.000000e+01</td>\n",
       "      <td>66.0</td>\n",
       "      <td>0.0</td>\n",
       "      <td>10.0</td>\n",
       "      <td>0.0</td>\n",
       "      <td>0.0</td>\n",
       "      <td>0.0</td>\n",
       "      <td>...</td>\n",
       "      <td>240.0</td>\n",
       "      <td>46.0</td>\n",
       "      <td>58.0</td>\n",
       "      <td>44.0</td>\n",
       "      <td>10.0</td>\n",
       "      <td>0.0</td>\n",
       "      <td>0.0</td>\n",
       "      <td>0.0</td>\n",
       "      <td>4.0</td>\n",
       "      <td>32.0</td>\n",
       "    </tr>\n",
       "    <tr>\n",
       "      <th>4</th>\n",
       "      <td>neg</td>\n",
       "      <td>60874</td>\n",
       "      <td>NaN</td>\n",
       "      <td>1.368000e+03</td>\n",
       "      <td>458.0</td>\n",
       "      <td>0.0</td>\n",
       "      <td>0.0</td>\n",
       "      <td>0.0</td>\n",
       "      <td>0.0</td>\n",
       "      <td>0.0</td>\n",
       "      <td>...</td>\n",
       "      <td>622012.0</td>\n",
       "      <td>229790.0</td>\n",
       "      <td>405298.0</td>\n",
       "      <td>347188.0</td>\n",
       "      <td>286954.0</td>\n",
       "      <td>311560.0</td>\n",
       "      <td>433954.0</td>\n",
       "      <td>1218.0</td>\n",
       "      <td>0.0</td>\n",
       "      <td>0.0</td>\n",
       "    </tr>\n",
       "  </tbody>\n",
       "</table>\n",
       "<p>5 rows × 171 columns</p>\n",
       "</div>"
      ],
      "text/plain": [
       "  class  aa_000  ab_000        ac_000  ad_000  ae_000  af_000  ag_000  ag_001  \\\n",
       "0   neg   76698     NaN  2.130706e+09   280.0     0.0     0.0     0.0     0.0   \n",
       "1   neg   33058     NaN  0.000000e+00     NaN     0.0     0.0     0.0     0.0   \n",
       "2   neg   41040     NaN  2.280000e+02   100.0     0.0     0.0     0.0     0.0   \n",
       "3   neg      12     0.0  7.000000e+01    66.0     0.0    10.0     0.0     0.0   \n",
       "4   neg   60874     NaN  1.368000e+03   458.0     0.0     0.0     0.0     0.0   \n",
       "\n",
       "   ag_002  ...     ee_002    ee_003    ee_004    ee_005    ee_006    ee_007  \\\n",
       "0     0.0  ...  1240520.0  493384.0  721044.0  469792.0  339156.0  157956.0   \n",
       "1     0.0  ...   421400.0  178064.0  293306.0  245416.0  133654.0   81140.0   \n",
       "2     0.0  ...   277378.0  159812.0  423992.0  409564.0  320746.0  158022.0   \n",
       "3     0.0  ...      240.0      46.0      58.0      44.0      10.0       0.0   \n",
       "4     0.0  ...   622012.0  229790.0  405298.0  347188.0  286954.0  311560.0   \n",
       "\n",
       "     ee_008  ee_009  ef_000  eg_000  \n",
       "0   73224.0     0.0     0.0     0.0  \n",
       "1   97576.0  1500.0     0.0     0.0  \n",
       "2   95128.0   514.0     0.0     0.0  \n",
       "3       0.0     0.0     4.0    32.0  \n",
       "4  433954.0  1218.0     0.0     0.0  \n",
       "\n",
       "[5 rows x 171 columns]"
      ]
     },
     "execution_count": 11,
     "metadata": {},
     "output_type": "execute_result"
    }
   ],
   "source": [
    "missing_value_formats = [\"n.a\",\"?\",\"NA\",\"n/a\",\"na\",\"--\"]\n",
    "df = pd.read_csv(\"aps_failure_set.csv\",na_values = missing_value_formats)\n",
    "df.The function below , identifies the values in blanks and transforms them into NaN, doing this python can identify these values as numerichead()"
   ]
  },
  {
   "cell_type": "code",
   "execution_count": 12,
   "metadata": {},
   "outputs": [
    {
     "data": {
      "text/plain": [
       "class      object\n",
       "aa_000      int64\n",
       "ab_000    float64\n",
       "ac_000    float64\n",
       "ad_000    float64\n",
       "           ...   \n",
       "ee_007    float64\n",
       "ee_008    float64\n",
       "ee_009    float64\n",
       "ef_000    float64\n",
       "eg_000    float64\n",
       "Length: 171, dtype: object"
      ]
     },
     "execution_count": 12,
     "metadata": {},
     "output_type": "execute_result"
    }
   ],
   "source": [
    "df.dtypes"
   ]
  },
  {
   "cell_type": "code",
   "execution_count": 13,
   "metadata": {},
   "outputs": [
    {
     "data": {
      "text/plain": [
       "class     60000\n",
       "aa_000    60000\n",
       "ab_000    13671\n",
       "ac_000    56665\n",
       "ad_000    45139\n",
       "          ...  \n",
       "ee_007    59329\n",
       "ee_008    59329\n",
       "ee_009    59329\n",
       "ef_000    57276\n",
       "eg_000    57277\n",
       "Length: 171, dtype: int64"
      ]
     },
     "execution_count": 13,
     "metadata": {},
     "output_type": "execute_result"
    }
   ],
   "source": [
    "df.count()"
   ]
  },
  {
   "cell_type": "code",
   "execution_count": 14,
   "metadata": {},
   "outputs": [
    {
     "data": {
      "text/plain": [
       "class         0\n",
       "aa_000        0\n",
       "ab_000    46329\n",
       "ac_000     3335\n",
       "ad_000    14861\n",
       "          ...  \n",
       "ee_007      671\n",
       "ee_008      671\n",
       "ee_009      671\n",
       "ef_000     2724\n",
       "eg_000     2723\n",
       "Length: 171, dtype: int64"
      ]
     },
     "execution_count": 14,
     "metadata": {},
     "output_type": "execute_result"
    }
   ],
   "source": [
    "df.isnull().sum()"
   ]
  },
  {
   "cell_type": "code",
   "execution_count": 60,
   "metadata": {},
   "outputs": [
    {
     "name": "stdout",
     "output_type": "stream",
     "text": [
      "Number of duplicate rows: (0, 174)\n"
     ]
    }
   ],
   "source": [
    "duplicated_rows_df=df[df.duplicated()]\n",
    "print('Number of duplicate rows:',duplicated_rows_df.shape)"
   ]
  },
  {
   "cell_type": "markdown",
   "metadata": {},
   "source": [
    "The percentage of missing values for each column is represented in the graph below."
   ]
  },
  {
   "cell_type": "code",
   "execution_count": 16,
   "metadata": {},
   "outputs": [
    {
     "data": {
      "image/png": "[encoded data removed]",
      "text/plain": [
       "<Figure size 1080x360 with 1 Axes>"
      ]
     },
     "metadata": {
      "needs_background": "light"
     },
     "output_type": "display_data"
    }
   ],
   "source": [
    "fig, ax = plt.subplots(figsize=(15,5))\n",
    "\n",
    "missing = df.isna().sum().div(df.shape[0]).mul(100).to_frame().sort_values(by=0, ascending=False)\n",
    "ax.bar(missing.index, missing.values.T[0])\n",
    "plt.ylabel(\"Percentage missing\")\n",
    "plt.xticks([])\n",
    "plt.show()"
   ]
  },
  {
   "cell_type": "code",
   "execution_count": 17,
   "metadata": {},
   "outputs": [
    {
     "name": "stdout",
     "output_type": "stream",
     "text": [
      "There are 7 columns with missing values above 70%.\n"
     ]
    }
   ],
   "source": [
    "percentage_colsmissing = missing[missing[0]>70]\n",
    "print(\"There are {} columns with missing values above 70%.\".format(len(percentage_colsmissing )))"
   ]
  },
  {
   "cell_type": "code",
   "execution_count": 18,
   "metadata": {},
   "outputs": [
    {
     "data": {
      "text/plain": [
       "['br_000', 'bq_000', 'bp_000', 'bo_000', 'ab_000', 'cr_000', 'bn_000', 'class']"
      ]
     },
     "execution_count": 18,
     "metadata": {},
     "output_type": "execute_result"
    }
   ],
   "source": [
    "cols_drop = list(percentage_colsmissing.index)\n",
    "cols_drop.append(\"class\")\n",
    "cols_drop"
   ]
  },
  {
   "cell_type": "markdown",
   "metadata": {},
   "source": [
    "These columns above have more than 70% with missing values, so we will exclude these columns"
   ]
  },
  {
   "cell_type": "code",
   "execution_count": 19,
   "metadata": {},
   "outputs": [
    {
     "data": {
      "text/html": [
       "<div>\n",
       "<style scoped>\n",
       "    .dataframe tbody tr th:only-of-type {\n",
       "        vertical-align: middle;\n",
       "    }\n",
       "\n",
       "    .dataframe tbody tr th {\n",
       "        vertical-align: top;\n",
       "    }\n",
       "\n",
       "    .dataframe thead th {\n",
       "        text-align: right;\n",
       "    }\n",
       "</style>\n",
       "<table border=\"1\" class=\"dataframe\">\n",
       "  <thead>\n",
       "    <tr style=\"text-align: right;\">\n",
       "      <th></th>\n",
       "      <th>aa_000</th>\n",
       "      <th>ac_000</th>\n",
       "      <th>ad_000</th>\n",
       "      <th>ae_000</th>\n",
       "      <th>af_000</th>\n",
       "      <th>ag_000</th>\n",
       "      <th>ag_001</th>\n",
       "      <th>ag_002</th>\n",
       "      <th>ag_003</th>\n",
       "      <th>ag_004</th>\n",
       "      <th>...</th>\n",
       "      <th>ee_002</th>\n",
       "      <th>ee_003</th>\n",
       "      <th>ee_004</th>\n",
       "      <th>ee_005</th>\n",
       "      <th>ee_006</th>\n",
       "      <th>ee_007</th>\n",
       "      <th>ee_008</th>\n",
       "      <th>ee_009</th>\n",
       "      <th>ef_000</th>\n",
       "      <th>eg_000</th>\n",
       "    </tr>\n",
       "  </thead>\n",
       "  <tbody>\n",
       "    <tr>\n",
       "      <th>count</th>\n",
       "      <td>6.000000e+04</td>\n",
       "      <td>5.666500e+04</td>\n",
       "      <td>4.513900e+04</td>\n",
       "      <td>57500.000000</td>\n",
       "      <td>57500.000000</td>\n",
       "      <td>5.932900e+04</td>\n",
       "      <td>5.932900e+04</td>\n",
       "      <td>5.932900e+04</td>\n",
       "      <td>5.932900e+04</td>\n",
       "      <td>5.932900e+04</td>\n",
       "      <td>...</td>\n",
       "      <td>5.932900e+04</td>\n",
       "      <td>5.932900e+04</td>\n",
       "      <td>5.932900e+04</td>\n",
       "      <td>5.932900e+04</td>\n",
       "      <td>5.932900e+04</td>\n",
       "      <td>5.932900e+04</td>\n",
       "      <td>5.932900e+04</td>\n",
       "      <td>5.932900e+04</td>\n",
       "      <td>57276.000000</td>\n",
       "      <td>57277.000000</td>\n",
       "    </tr>\n",
       "    <tr>\n",
       "      <th>mean</th>\n",
       "      <td>5.933650e+04</td>\n",
       "      <td>3.560143e+08</td>\n",
       "      <td>1.906206e+05</td>\n",
       "      <td>6.819130</td>\n",
       "      <td>11.006817</td>\n",
       "      <td>2.216364e+02</td>\n",
       "      <td>9.757223e+02</td>\n",
       "      <td>8.606015e+03</td>\n",
       "      <td>8.859128e+04</td>\n",
       "      <td>4.370966e+05</td>\n",
       "      <td>...</td>\n",
       "      <td>4.454897e+05</td>\n",
       "      <td>2.111264e+05</td>\n",
       "      <td>4.457343e+05</td>\n",
       "      <td>3.939462e+05</td>\n",
       "      <td>3.330582e+05</td>\n",
       "      <td>3.462714e+05</td>\n",
       "      <td>1.387300e+05</td>\n",
       "      <td>8.388915e+03</td>\n",
       "      <td>0.090579</td>\n",
       "      <td>0.212756</td>\n",
       "    </tr>\n",
       "    <tr>\n",
       "      <th>std</th>\n",
       "      <td>1.454301e+05</td>\n",
       "      <td>7.948749e+08</td>\n",
       "      <td>4.040441e+07</td>\n",
       "      <td>161.543373</td>\n",
       "      <td>209.792592</td>\n",
       "      <td>2.047846e+04</td>\n",
       "      <td>3.420053e+04</td>\n",
       "      <td>1.503220e+05</td>\n",
       "      <td>7.617312e+05</td>\n",
       "      <td>2.374282e+06</td>\n",
       "      <td>...</td>\n",
       "      <td>1.155540e+06</td>\n",
       "      <td>5.433188e+05</td>\n",
       "      <td>1.168314e+06</td>\n",
       "      <td>1.121044e+06</td>\n",
       "      <td>1.069160e+06</td>\n",
       "      <td>1.728056e+06</td>\n",
       "      <td>4.495100e+05</td>\n",
       "      <td>4.747043e+04</td>\n",
       "      <td>4.368855</td>\n",
       "      <td>8.830641</td>\n",
       "    </tr>\n",
       "    <tr>\n",
       "      <th>min</th>\n",
       "      <td>0.000000e+00</td>\n",
       "      <td>0.000000e+00</td>\n",
       "      <td>0.000000e+00</td>\n",
       "      <td>0.000000</td>\n",
       "      <td>0.000000</td>\n",
       "      <td>0.000000e+00</td>\n",
       "      <td>0.000000e+00</td>\n",
       "      <td>0.000000e+00</td>\n",
       "      <td>0.000000e+00</td>\n",
       "      <td>0.000000e+00</td>\n",
       "      <td>...</td>\n",
       "      <td>0.000000e+00</td>\n",
       "      <td>0.000000e+00</td>\n",
       "      <td>0.000000e+00</td>\n",
       "      <td>0.000000e+00</td>\n",
       "      <td>0.000000e+00</td>\n",
       "      <td>0.000000e+00</td>\n",
       "      <td>0.000000e+00</td>\n",
       "      <td>0.000000e+00</td>\n",
       "      <td>0.000000</td>\n",
       "      <td>0.000000</td>\n",
       "    </tr>\n",
       "    <tr>\n",
       "      <th>25%</th>\n",
       "      <td>8.340000e+02</td>\n",
       "      <td>1.600000e+01</td>\n",
       "      <td>2.400000e+01</td>\n",
       "      <td>0.000000</td>\n",
       "      <td>0.000000</td>\n",
       "      <td>0.000000e+00</td>\n",
       "      <td>0.000000e+00</td>\n",
       "      <td>0.000000e+00</td>\n",
       "      <td>0.000000e+00</td>\n",
       "      <td>3.080000e+02</td>\n",
       "      <td>...</td>\n",
       "      <td>2.936000e+03</td>\n",
       "      <td>1.166000e+03</td>\n",
       "      <td>2.700000e+03</td>\n",
       "      <td>3.584000e+03</td>\n",
       "      <td>5.120000e+02</td>\n",
       "      <td>1.100000e+02</td>\n",
       "      <td>0.000000e+00</td>\n",
       "      <td>0.000000e+00</td>\n",
       "      <td>0.000000</td>\n",
       "      <td>0.000000</td>\n",
       "    </tr>\n",
       "    <tr>\n",
       "      <th>50%</th>\n",
       "      <td>3.077600e+04</td>\n",
       "      <td>1.520000e+02</td>\n",
       "      <td>1.260000e+02</td>\n",
       "      <td>0.000000</td>\n",
       "      <td>0.000000</td>\n",
       "      <td>0.000000e+00</td>\n",
       "      <td>0.000000e+00</td>\n",
       "      <td>0.000000e+00</td>\n",
       "      <td>0.000000e+00</td>\n",
       "      <td>3.672000e+03</td>\n",
       "      <td>...</td>\n",
       "      <td>2.337960e+05</td>\n",
       "      <td>1.120860e+05</td>\n",
       "      <td>2.215180e+05</td>\n",
       "      <td>1.899880e+05</td>\n",
       "      <td>9.243200e+04</td>\n",
       "      <td>4.109800e+04</td>\n",
       "      <td>3.812000e+03</td>\n",
       "      <td>0.000000e+00</td>\n",
       "      <td>0.000000</td>\n",
       "      <td>0.000000</td>\n",
       "    </tr>\n",
       "    <tr>\n",
       "      <th>75%</th>\n",
       "      <td>4.866800e+04</td>\n",
       "      <td>9.640000e+02</td>\n",
       "      <td>4.300000e+02</td>\n",
       "      <td>0.000000</td>\n",
       "      <td>0.000000</td>\n",
       "      <td>0.000000e+00</td>\n",
       "      <td>0.000000e+00</td>\n",
       "      <td>0.000000e+00</td>\n",
       "      <td>0.000000e+00</td>\n",
       "      <td>4.952200e+04</td>\n",
       "      <td>...</td>\n",
       "      <td>4.383960e+05</td>\n",
       "      <td>2.182320e+05</td>\n",
       "      <td>4.666140e+05</td>\n",
       "      <td>4.032220e+05</td>\n",
       "      <td>2.750940e+05</td>\n",
       "      <td>1.678140e+05</td>\n",
       "      <td>1.397240e+05</td>\n",
       "      <td>2.028000e+03</td>\n",
       "      <td>0.000000</td>\n",
       "      <td>0.000000</td>\n",
       "    </tr>\n",
       "    <tr>\n",
       "      <th>max</th>\n",
       "      <td>2.746564e+06</td>\n",
       "      <td>2.130707e+09</td>\n",
       "      <td>8.584298e+09</td>\n",
       "      <td>21050.000000</td>\n",
       "      <td>20070.000000</td>\n",
       "      <td>3.376892e+06</td>\n",
       "      <td>4.109372e+06</td>\n",
       "      <td>1.055286e+07</td>\n",
       "      <td>6.340207e+07</td>\n",
       "      <td>2.288306e+08</td>\n",
       "      <td>...</td>\n",
       "      <td>7.793393e+07</td>\n",
       "      <td>3.775839e+07</td>\n",
       "      <td>9.715238e+07</td>\n",
       "      <td>5.743524e+07</td>\n",
       "      <td>3.160781e+07</td>\n",
       "      <td>1.195801e+08</td>\n",
       "      <td>1.926740e+07</td>\n",
       "      <td>3.810078e+06</td>\n",
       "      <td>482.000000</td>\n",
       "      <td>1146.000000</td>\n",
       "    </tr>\n",
       "  </tbody>\n",
       "</table>\n",
       "<p>8 rows × 163 columns</p>\n",
       "</div>"
      ],
      "text/plain": [
       "             aa_000        ac_000        ad_000        ae_000        af_000  \\\n",
       "count  6.000000e+04  5.666500e+04  4.513900e+04  57500.000000  57500.000000   \n",
       "mean   5.933650e+04  3.560143e+08  1.906206e+05      6.819130     11.006817   \n",
       "std    1.454301e+05  7.948749e+08  4.040441e+07    161.543373    209.792592   \n",
       "min    0.000000e+00  0.000000e+00  0.000000e+00      0.000000      0.000000   \n",
       "25%    8.340000e+02  1.600000e+01  2.400000e+01      0.000000      0.000000   \n",
       "50%    3.077600e+04  1.520000e+02  1.260000e+02      0.000000      0.000000   \n",
       "75%    4.866800e+04  9.640000e+02  4.300000e+02      0.000000      0.000000   \n",
       "max    2.746564e+06  2.130707e+09  8.584298e+09  21050.000000  20070.000000   \n",
       "\n",
       "             ag_000        ag_001        ag_002        ag_003        ag_004  \\\n",
       "count  5.932900e+04  5.932900e+04  5.932900e+04  5.932900e+04  5.932900e+04   \n",
       "mean   2.216364e+02  9.757223e+02  8.606015e+03  8.859128e+04  4.370966e+05   \n",
       "std    2.047846e+04  3.420053e+04  1.503220e+05  7.617312e+05  2.374282e+06   \n",
       "min    0.000000e+00  0.000000e+00  0.000000e+00  0.000000e+00  0.000000e+00   \n",
       "25%    0.000000e+00  0.000000e+00  0.000000e+00  0.000000e+00  3.080000e+02   \n",
       "50%    0.000000e+00  0.000000e+00  0.000000e+00  0.000000e+00  3.672000e+03   \n",
       "75%    0.000000e+00  0.000000e+00  0.000000e+00  0.000000e+00  4.952200e+04   \n",
       "max    3.376892e+06  4.109372e+06  1.055286e+07  6.340207e+07  2.288306e+08   \n",
       "\n",
       "       ...        ee_002        ee_003        ee_004        ee_005  \\\n",
       "count  ...  5.932900e+04  5.932900e+04  5.932900e+04  5.932900e+04   \n",
       "mean   ...  4.454897e+05  2.111264e+05  4.457343e+05  3.939462e+05   \n",
       "std    ...  1.155540e+06  5.433188e+05  1.168314e+06  1.121044e+06   \n",
       "min    ...  0.000000e+00  0.000000e+00  0.000000e+00  0.000000e+00   \n",
       "25%    ...  2.936000e+03  1.166000e+03  2.700000e+03  3.584000e+03   \n",
       "50%    ...  2.337960e+05  1.120860e+05  2.215180e+05  1.899880e+05   \n",
       "75%    ...  4.383960e+05  2.182320e+05  4.666140e+05  4.032220e+05   \n",
       "max    ...  7.793393e+07  3.775839e+07  9.715238e+07  5.743524e+07   \n",
       "\n",
       "             ee_006        ee_007        ee_008        ee_009        ef_000  \\\n",
       "count  5.932900e+04  5.932900e+04  5.932900e+04  5.932900e+04  57276.000000   \n",
       "mean   3.330582e+05  3.462714e+05  1.387300e+05  8.388915e+03      0.090579   \n",
       "std    1.069160e+06  1.728056e+06  4.495100e+05  4.747043e+04      4.368855   \n",
       "min    0.000000e+00  0.000000e+00  0.000000e+00  0.000000e+00      0.000000   \n",
       "25%    5.120000e+02  1.100000e+02  0.000000e+00  0.000000e+00      0.000000   \n",
       "50%    9.243200e+04  4.109800e+04  3.812000e+03  0.000000e+00      0.000000   \n",
       "75%    2.750940e+05  1.678140e+05  1.397240e+05  2.028000e+03      0.000000   \n",
       "max    3.160781e+07  1.195801e+08  1.926740e+07  3.810078e+06    482.000000   \n",
       "\n",
       "             eg_000  \n",
       "count  57277.000000  \n",
       "mean       0.212756  \n",
       "std        8.830641  \n",
       "min        0.000000  \n",
       "25%        0.000000  \n",
       "50%        0.000000  \n",
       "75%        0.000000  \n",
       "max     1146.000000  \n",
       "\n",
       "[8 rows x 163 columns]"
      ]
     },
     "execution_count": 19,
     "metadata": {},
     "output_type": "execute_result"
    }
   ],
   "source": [
    "X = df.drop(cols_drop, axis=1)\n",
    "X.describe()"
   ]
  },
  {
   "cell_type": "markdown",
   "metadata": {},
   "source": [
    "The remaining features will be fillied with the median."
   ]
  },
  {
   "cell_type": "code",
   "execution_count": 20,
   "metadata": {},
   "outputs": [
    {
     "data": {
      "text/plain": [
       "aa_000    30776.0\n",
       "ac_000      152.0\n",
       "ad_000      126.0\n",
       "ae_000        0.0\n",
       "af_000        0.0\n",
       "           ...   \n",
       "ee_007    41098.0\n",
       "ee_008     3812.0\n",
       "ee_009        0.0\n",
       "ef_000        0.0\n",
       "eg_000        0.0\n",
       "Length: 163, dtype: float64"
      ]
     },
     "execution_count": 20,
     "metadata": {},
     "output_type": "execute_result"
    }
   ],
   "source": [
    "X.median()"
   ]
  },
  {
   "cell_type": "code",
   "execution_count": 21,
   "metadata": {},
   "outputs": [
    {
     "data": {
      "text/plain": [
       "162"
      ]
     },
     "execution_count": 21,
     "metadata": {},
     "output_type": "execute_result"
    }
   ],
   "source": [
    "X.isnull().any().sum()"
   ]
  },
  {
   "cell_type": "code",
   "execution_count": 22,
   "metadata": {},
   "outputs": [],
   "source": [
    "X.fillna(X.median(), inplace=True)"
   ]
  },
  {
   "cell_type": "code",
   "execution_count": 23,
   "metadata": {},
   "outputs": [
    {
     "data": {
      "text/plain": [
       "0"
      ]
     },
     "execution_count": 23,
     "metadata": {},
     "output_type": "execute_result"
    }
   ],
   "source": [
    "X.isnull().any().sum()"
   ]
  },
  {
   "cell_type": "markdown",
   "metadata": {},
   "source": [
    "We can now check that the NaN values have been replaced with this result"
   ]
  },
  {
   "cell_type": "code",
   "execution_count": 24,
   "metadata": {},
   "outputs": [
    {
     "data": {
      "text/html": [
       "<div>\n",
       "<style scoped>\n",
       "    .dataframe tbody tr th:only-of-type {\n",
       "        vertical-align: middle;\n",
       "    }\n",
       "\n",
       "    .dataframe tbody tr th {\n",
       "        vertical-align: top;\n",
       "    }\n",
       "\n",
       "    .dataframe thead th {\n",
       "        text-align: right;\n",
       "    }\n",
       "</style>\n",
       "<table border=\"1\" class=\"dataframe\">\n",
       "  <thead>\n",
       "    <tr style=\"text-align: right;\">\n",
       "      <th></th>\n",
       "      <th>aa_000</th>\n",
       "      <th>ac_000</th>\n",
       "      <th>ad_000</th>\n",
       "      <th>ae_000</th>\n",
       "      <th>af_000</th>\n",
       "      <th>ag_000</th>\n",
       "      <th>ag_001</th>\n",
       "      <th>ag_002</th>\n",
       "      <th>ag_003</th>\n",
       "      <th>ag_004</th>\n",
       "      <th>...</th>\n",
       "      <th>ee_002</th>\n",
       "      <th>ee_003</th>\n",
       "      <th>ee_004</th>\n",
       "      <th>ee_005</th>\n",
       "      <th>ee_006</th>\n",
       "      <th>ee_007</th>\n",
       "      <th>ee_008</th>\n",
       "      <th>ee_009</th>\n",
       "      <th>ef_000</th>\n",
       "      <th>eg_000</th>\n",
       "    </tr>\n",
       "  </thead>\n",
       "  <tbody>\n",
       "    <tr>\n",
       "      <th>count</th>\n",
       "      <td>6.000000e+04</td>\n",
       "      <td>6.000000e+04</td>\n",
       "      <td>6.000000e+04</td>\n",
       "      <td>60000.000000</td>\n",
       "      <td>60000.000000</td>\n",
       "      <td>6.000000e+04</td>\n",
       "      <td>6.000000e+04</td>\n",
       "      <td>6.000000e+04</td>\n",
       "      <td>6.000000e+04</td>\n",
       "      <td>6.000000e+04</td>\n",
       "      <td>...</td>\n",
       "      <td>6.000000e+04</td>\n",
       "      <td>6.000000e+04</td>\n",
       "      <td>6.000000e+04</td>\n",
       "      <td>6.000000e+04</td>\n",
       "      <td>6.000000e+04</td>\n",
       "      <td>6.000000e+04</td>\n",
       "      <td>6.000000e+04</td>\n",
       "      <td>6.000000e+04</td>\n",
       "      <td>60000.000000</td>\n",
       "      <td>60000.000000</td>\n",
       "    </tr>\n",
       "    <tr>\n",
       "      <th>mean</th>\n",
       "      <td>5.933650e+04</td>\n",
       "      <td>3.362258e+08</td>\n",
       "      <td>1.434383e+05</td>\n",
       "      <td>6.535000</td>\n",
       "      <td>10.548200</td>\n",
       "      <td>2.191577e+02</td>\n",
       "      <td>9.648104e+02</td>\n",
       "      <td>8.509771e+03</td>\n",
       "      <td>8.760054e+04</td>\n",
       "      <td>4.322495e+05</td>\n",
       "      <td>...</td>\n",
       "      <td>4.431223e+05</td>\n",
       "      <td>2.100188e+05</td>\n",
       "      <td>4.432268e+05</td>\n",
       "      <td>3.916653e+05</td>\n",
       "      <td>3.303672e+05</td>\n",
       "      <td>3.428586e+05</td>\n",
       "      <td>1.372212e+05</td>\n",
       "      <td>8.295099e+03</td>\n",
       "      <td>0.086467</td>\n",
       "      <td>0.203100</td>\n",
       "    </tr>\n",
       "    <tr>\n",
       "      <th>std</th>\n",
       "      <td>1.454301e+05</td>\n",
       "      <td>7.767625e+08</td>\n",
       "      <td>3.504525e+07</td>\n",
       "      <td>158.147893</td>\n",
       "      <td>205.387115</td>\n",
       "      <td>2.036364e+04</td>\n",
       "      <td>3.400891e+04</td>\n",
       "      <td>1.494818e+05</td>\n",
       "      <td>7.575171e+05</td>\n",
       "      <td>2.361408e+06</td>\n",
       "      <td>...</td>\n",
       "      <td>1.149276e+06</td>\n",
       "      <td>5.403725e+05</td>\n",
       "      <td>1.162002e+06</td>\n",
       "      <td>1.114964e+06</td>\n",
       "      <td>1.063465e+06</td>\n",
       "      <td>1.718666e+06</td>\n",
       "      <td>4.472145e+05</td>\n",
       "      <td>4.721249e+04</td>\n",
       "      <td>4.268570</td>\n",
       "      <td>8.628043</td>\n",
       "    </tr>\n",
       "    <tr>\n",
       "      <th>min</th>\n",
       "      <td>0.000000e+00</td>\n",
       "      <td>0.000000e+00</td>\n",
       "      <td>0.000000e+00</td>\n",
       "      <td>0.000000</td>\n",
       "      <td>0.000000</td>\n",
       "      <td>0.000000e+00</td>\n",
       "      <td>0.000000e+00</td>\n",
       "      <td>0.000000e+00</td>\n",
       "      <td>0.000000e+00</td>\n",
       "      <td>0.000000e+00</td>\n",
       "      <td>...</td>\n",
       "      <td>0.000000e+00</td>\n",
       "      <td>0.000000e+00</td>\n",
       "      <td>0.000000e+00</td>\n",
       "      <td>0.000000e+00</td>\n",
       "      <td>0.000000e+00</td>\n",
       "      <td>0.000000e+00</td>\n",
       "      <td>0.000000e+00</td>\n",
       "      <td>0.000000e+00</td>\n",
       "      <td>0.000000</td>\n",
       "      <td>0.000000</td>\n",
       "    </tr>\n",
       "    <tr>\n",
       "      <th>25%</th>\n",
       "      <td>8.340000e+02</td>\n",
       "      <td>2.000000e+01</td>\n",
       "      <td>4.200000e+01</td>\n",
       "      <td>0.000000</td>\n",
       "      <td>0.000000</td>\n",
       "      <td>0.000000e+00</td>\n",
       "      <td>0.000000e+00</td>\n",
       "      <td>0.000000e+00</td>\n",
       "      <td>0.000000e+00</td>\n",
       "      <td>3.180000e+02</td>\n",
       "      <td>...</td>\n",
       "      <td>3.033500e+03</td>\n",
       "      <td>1.204000e+03</td>\n",
       "      <td>2.848500e+03</td>\n",
       "      <td>3.839000e+03</td>\n",
       "      <td>5.600000e+02</td>\n",
       "      <td>1.180000e+02</td>\n",
       "      <td>0.000000e+00</td>\n",
       "      <td>0.000000e+00</td>\n",
       "      <td>0.000000</td>\n",
       "      <td>0.000000</td>\n",
       "    </tr>\n",
       "    <tr>\n",
       "      <th>50%</th>\n",
       "      <td>3.077600e+04</td>\n",
       "      <td>1.520000e+02</td>\n",
       "      <td>1.260000e+02</td>\n",
       "      <td>0.000000</td>\n",
       "      <td>0.000000</td>\n",
       "      <td>0.000000e+00</td>\n",
       "      <td>0.000000e+00</td>\n",
       "      <td>0.000000e+00</td>\n",
       "      <td>0.000000e+00</td>\n",
       "      <td>3.672000e+03</td>\n",
       "      <td>...</td>\n",
       "      <td>2.337960e+05</td>\n",
       "      <td>1.120860e+05</td>\n",
       "      <td>2.215180e+05</td>\n",
       "      <td>1.899880e+05</td>\n",
       "      <td>9.243200e+04</td>\n",
       "      <td>4.109800e+04</td>\n",
       "      <td>3.812000e+03</td>\n",
       "      <td>0.000000e+00</td>\n",
       "      <td>0.000000</td>\n",
       "      <td>0.000000</td>\n",
       "    </tr>\n",
       "    <tr>\n",
       "      <th>75%</th>\n",
       "      <td>4.866800e+04</td>\n",
       "      <td>8.480000e+02</td>\n",
       "      <td>2.920000e+02</td>\n",
       "      <td>0.000000</td>\n",
       "      <td>0.000000</td>\n",
       "      <td>0.000000e+00</td>\n",
       "      <td>0.000000e+00</td>\n",
       "      <td>0.000000e+00</td>\n",
       "      <td>0.000000e+00</td>\n",
       "      <td>4.812400e+04</td>\n",
       "      <td>...</td>\n",
       "      <td>4.350315e+05</td>\n",
       "      <td>2.164440e+05</td>\n",
       "      <td>4.624655e+05</td>\n",
       "      <td>4.003010e+05</td>\n",
       "      <td>2.725220e+05</td>\n",
       "      <td>1.663465e+05</td>\n",
       "      <td>1.367255e+05</td>\n",
       "      <td>1.934000e+03</td>\n",
       "      <td>0.000000</td>\n",
       "      <td>0.000000</td>\n",
       "    </tr>\n",
       "    <tr>\n",
       "      <th>max</th>\n",
       "      <td>2.746564e+06</td>\n",
       "      <td>2.130707e+09</td>\n",
       "      <td>8.584298e+09</td>\n",
       "      <td>21050.000000</td>\n",
       "      <td>20070.000000</td>\n",
       "      <td>3.376892e+06</td>\n",
       "      <td>4.109372e+06</td>\n",
       "      <td>1.055286e+07</td>\n",
       "      <td>6.340207e+07</td>\n",
       "      <td>2.288306e+08</td>\n",
       "      <td>...</td>\n",
       "      <td>7.793393e+07</td>\n",
       "      <td>3.775839e+07</td>\n",
       "      <td>9.715238e+07</td>\n",
       "      <td>5.743524e+07</td>\n",
       "      <td>3.160781e+07</td>\n",
       "      <td>1.195801e+08</td>\n",
       "      <td>1.926740e+07</td>\n",
       "      <td>3.810078e+06</td>\n",
       "      <td>482.000000</td>\n",
       "      <td>1146.000000</td>\n",
       "    </tr>\n",
       "  </tbody>\n",
       "</table>\n",
       "<p>8 rows × 163 columns</p>\n",
       "</div>"
      ],
      "text/plain": [
       "             aa_000        ac_000        ad_000        ae_000        af_000  \\\n",
       "count  6.000000e+04  6.000000e+04  6.000000e+04  60000.000000  60000.000000   \n",
       "mean   5.933650e+04  3.362258e+08  1.434383e+05      6.535000     10.548200   \n",
       "std    1.454301e+05  7.767625e+08  3.504525e+07    158.147893    205.387115   \n",
       "min    0.000000e+00  0.000000e+00  0.000000e+00      0.000000      0.000000   \n",
       "25%    8.340000e+02  2.000000e+01  4.200000e+01      0.000000      0.000000   \n",
       "50%    3.077600e+04  1.520000e+02  1.260000e+02      0.000000      0.000000   \n",
       "75%    4.866800e+04  8.480000e+02  2.920000e+02      0.000000      0.000000   \n",
       "max    2.746564e+06  2.130707e+09  8.584298e+09  21050.000000  20070.000000   \n",
       "\n",
       "             ag_000        ag_001        ag_002        ag_003        ag_004  \\\n",
       "count  6.000000e+04  6.000000e+04  6.000000e+04  6.000000e+04  6.000000e+04   \n",
       "mean   2.191577e+02  9.648104e+02  8.509771e+03  8.760054e+04  4.322495e+05   \n",
       "std    2.036364e+04  3.400891e+04  1.494818e+05  7.575171e+05  2.361408e+06   \n",
       "min    0.000000e+00  0.000000e+00  0.000000e+00  0.000000e+00  0.000000e+00   \n",
       "25%    0.000000e+00  0.000000e+00  0.000000e+00  0.000000e+00  3.180000e+02   \n",
       "50%    0.000000e+00  0.000000e+00  0.000000e+00  0.000000e+00  3.672000e+03   \n",
       "75%    0.000000e+00  0.000000e+00  0.000000e+00  0.000000e+00  4.812400e+04   \n",
       "max    3.376892e+06  4.109372e+06  1.055286e+07  6.340207e+07  2.288306e+08   \n",
       "\n",
       "       ...        ee_002        ee_003        ee_004        ee_005  \\\n",
       "count  ...  6.000000e+04  6.000000e+04  6.000000e+04  6.000000e+04   \n",
       "mean   ...  4.431223e+05  2.100188e+05  4.432268e+05  3.916653e+05   \n",
       "std    ...  1.149276e+06  5.403725e+05  1.162002e+06  1.114964e+06   \n",
       "min    ...  0.000000e+00  0.000000e+00  0.000000e+00  0.000000e+00   \n",
       "25%    ...  3.033500e+03  1.204000e+03  2.848500e+03  3.839000e+03   \n",
       "50%    ...  2.337960e+05  1.120860e+05  2.215180e+05  1.899880e+05   \n",
       "75%    ...  4.350315e+05  2.164440e+05  4.624655e+05  4.003010e+05   \n",
       "max    ...  7.793393e+07  3.775839e+07  9.715238e+07  5.743524e+07   \n",
       "\n",
       "             ee_006        ee_007        ee_008        ee_009        ef_000  \\\n",
       "count  6.000000e+04  6.000000e+04  6.000000e+04  6.000000e+04  60000.000000   \n",
       "mean   3.303672e+05  3.428586e+05  1.372212e+05  8.295099e+03      0.086467   \n",
       "std    1.063465e+06  1.718666e+06  4.472145e+05  4.721249e+04      4.268570   \n",
       "min    0.000000e+00  0.000000e+00  0.000000e+00  0.000000e+00      0.000000   \n",
       "25%    5.600000e+02  1.180000e+02  0.000000e+00  0.000000e+00      0.000000   \n",
       "50%    9.243200e+04  4.109800e+04  3.812000e+03  0.000000e+00      0.000000   \n",
       "75%    2.725220e+05  1.663465e+05  1.367255e+05  1.934000e+03      0.000000   \n",
       "max    3.160781e+07  1.195801e+08  1.926740e+07  3.810078e+06    482.000000   \n",
       "\n",
       "             eg_000  \n",
       "count  60000.000000  \n",
       "mean       0.203100  \n",
       "std        8.628043  \n",
       "min        0.000000  \n",
       "25%        0.000000  \n",
       "50%        0.000000  \n",
       "75%        0.000000  \n",
       "max     1146.000000  \n",
       "\n",
       "[8 rows x 163 columns]"
      ]
     },
     "execution_count": 24,
     "metadata": {},
     "output_type": "execute_result"
    }
   ],
   "source": [
    "X.describe()"
   ]
  },
  {
   "cell_type": "code",
   "execution_count": 25,
   "metadata": {},
   "outputs": [
    {
     "data": {
      "text/plain": [
       "aa_000      int64\n",
       "ac_000    float64\n",
       "ad_000    float64\n",
       "ae_000    float64\n",
       "af_000    float64\n",
       "           ...   \n",
       "ee_007    float64\n",
       "ee_008    float64\n",
       "ee_009    float64\n",
       "ef_000    float64\n",
       "eg_000    float64\n",
       "Length: 163, dtype: object"
      ]
     },
     "execution_count": 25,
     "metadata": {},
     "output_type": "execute_result"
    }
   ],
   "source": [
    "X.dtypes"
   ]
  },
  {
   "cell_type": "markdown",
   "metadata": {},
   "source": [
    "## Principal Component Analysis - PCA"
   ]
  },
  {
   "cell_type": "markdown",
   "metadata": {},
   "source": [
    "Principal Components Analysis (PCA) is a technique that transforms a dataset's columns into a new collection of features known as Principal Components. By doing so, a huge portion of the information in the whole dataset is effectively compressed into a few feature columns. This allows for dimensionality reduction and the visualization of class or cluster separation, if present."
   ]
  },
  {
   "cell_type": "code",
   "execution_count": 48,
   "metadata": {},
   "outputs": [],
   "source": [
    "from sklearn.decomposition import PCA\n",
    "from sklearn.preprocessing import StandardScaler"
   ]
  },
  {
   "cell_type": "code",
   "execution_count": 41,
   "metadata": {},
   "outputs": [
    {
     "data": {
      "text/plain": [
       "array([[-1.19907373e-05,  9.99989096e-01, -8.01120559e-05,\n",
       "        -8.66729574e-10, -2.50971492e-09,  4.49629134e-07,\n",
       "        -3.22074249e-07, -4.38070899e-06, -4.68427001e-05,\n",
       "        -1.98242058e-04, -2.49156682e-04, -1.76349763e-04,\n",
       "        -1.92713893e-05, -2.02119003e-06, -1.18534036e-06,\n",
       "        -3.59652566e-04, -6.45476508e-07, -5.59705119e-07,\n",
       "        -1.52426326e-07, -3.06332411e-05, -4.84521948e-05,\n",
       "        -6.09397039e-04, -5.49376481e-04, -2.55690741e-04,\n",
       "        -7.88498625e-05, -2.48636153e-10, -7.00522326e-08,\n",
       "        -8.69857870e-07, -1.25673468e-07,  1.41240840e-07,\n",
       "        -9.86433321e-09, -6.35138664e-06, -5.41451227e-06,\n",
       "        -5.78932793e-06, -3.77171720e-06, -5.53001758e-06,\n",
       "        -2.88815714e-05, -7.84747079e-05, -3.41077574e-04,\n",
       "        -2.17178708e-04, -2.82386281e-07, -2.71905148e-06,\n",
       "        -1.62765990e-06, -3.09353967e-06, -2.85280184e-05,\n",
       "        -4.47894210e-04, -1.87638016e-04, -1.19008723e-05,\n",
       "        -9.09869374e-06, -3.10290441e-07,  2.20872673e-08,\n",
       "        -2.83367660e-04, -1.40431621e-04, -8.58357028e-05,\n",
       "        -4.80708761e-05, -3.18849629e-05, -2.88905614e-05,\n",
       "        -2.94155659e-05, -2.24764267e-05, -1.48671784e-05,\n",
       "        -1.50392460e-05, -8.96671961e-04, -1.02342697e-07,\n",
       "        -8.74712831e-08, -2.71145587e-07, -3.12512976e-08,\n",
       "        -3.59450741e-04, -1.26970904e-05, -1.16330887e-04,\n",
       "        -1.39732946e-04, -2.29366328e-05, -3.10284832e-05,\n",
       "        -3.32468725e-05, -5.68578972e-07, -1.19383570e-05,\n",
       "        -8.89850618e-04, -8.89850763e-04, -6.95879368e-04,\n",
       "        -3.69095088e-06, -4.49349566e-05,  2.32572564e-06,\n",
       "         1.16843871e-05, -6.28828492e-04, -0.00000000e+00,\n",
       "         9.16253528e-06, -8.02229503e-05, -8.54440499e-09,\n",
       "        -1.85795352e-13, -7.00185915e-04, -4.22164029e-05,\n",
       "        -1.62378730e-04, -1.45728406e-07,  4.31163005e-08,\n",
       "        -1.27842029e-06, -1.18848828e-05, -7.77786413e-05,\n",
       "        -1.85174926e-04, -2.57839196e-04, -1.33944607e-04,\n",
       "        -8.30810736e-06, -1.21673818e-05, -6.03197033e-06,\n",
       "        -3.86559891e-06, -8.01865533e-05, -1.12423268e-07,\n",
       "        -8.89850713e-04, -5.57471273e-07, -1.56002506e-07,\n",
       "        -8.36444340e-05, -5.78920161e-05, -1.57708580e-04,\n",
       "        -3.89065860e-04, -1.06138284e-05,  7.20095454e-08,\n",
       "        -3.61645879e-08, -4.25473230e-07,  1.42174795e-07,\n",
       "        -8.27845371e-08,  7.58597761e-05, -4.06214255e-05,\n",
       "         2.67787899e-08,  1.11231333e-06,  3.03659923e-10,\n",
       "         3.31291019e-09,  1.40333876e-05, -4.60810355e-07,\n",
       "        -3.11239532e-08, -6.62701600e-07, -2.31650181e-06,\n",
       "        -2.17277591e-06, -7.84530064e-06, -1.49364874e-08,\n",
       "        -8.40413731e-08, -6.37937588e-06, -1.83552229e-06,\n",
       "        -6.83425614e-06,  6.32432705e-07,  2.29353168e-06,\n",
       "        -2.08901958e-03, -6.13266633e-05, -1.53732112e-05,\n",
       "        -1.89067475e-06,  2.47288992e-03,  2.10933443e-04,\n",
       "        -1.39267565e-04, -2.01955449e-06,  1.14414465e-10,\n",
       "         6.08913017e-10, -2.13685447e-03, -1.74731746e-07,\n",
       "        -1.21543042e-07, -1.56774316e-04, -1.53585670e-04,\n",
       "        -6.95748594e-05, -2.80231738e-05, -5.89915449e-05,\n",
       "        -5.70804419e-05, -6.46647834e-05, -1.07906661e-04,\n",
       "        -2.17298533e-06,  8.34895487e-07, -3.44487687e-11,\n",
       "         1.63753021e-10],\n",
       "       [ 3.22605440e-04,  2.26787639e-03, -1.60866483e-04,\n",
       "         2.57676080e-08,  5.52746230e-08,  2.12378689e-07,\n",
       "         9.03398257e-06,  1.39458401e-04,  1.44693690e-03,\n",
       "         5.23371161e-03,  6.34968469e-03,  3.17199277e-03,\n",
       "         8.98503970e-04,  2.42305448e-04,  2.56921584e-05,\n",
       "         9.77548072e-03,  1.87693047e-05,  3.22598287e-06,\n",
       "         4.90151778e-07,  1.15645329e-03,  1.75091522e-03,\n",
       "         1.68838939e-02,  1.54263423e-02,  6.95169235e-03,\n",
       "         2.16176250e-03,  1.07600225e-08,  2.55438040e-06,\n",
       "         1.71453439e-05,  6.55209415e-07,  1.08339987e-05,\n",
       "         3.03549720e-06,  1.45146769e-04,  5.93993127e-05,\n",
       "         3.13874645e-05,  2.44935930e-05,  1.93948670e-05,\n",
       "         1.45044978e-04,  1.70395190e-03,  7.80190126e-03,\n",
       "         7.58099337e-03,  7.65663837e-06,  4.91114531e-05,\n",
       "         3.11865168e-05,  6.96565129e-05,  4.05040382e-04,\n",
       "         3.74380462e-03,  1.16747334e-02,  1.18664245e-03,\n",
       "         3.50730142e-04,  8.41977932e-06,  1.42958005e-08,\n",
       "         5.79330198e-03,  4.58832886e-03,  2.18213934e-03,\n",
       "         1.31182913e-03,  8.38982621e-04,  6.02429259e-04,\n",
       "         5.27204533e-04,  6.13533309e-04,  3.41342854e-04,\n",
       "         7.16145410e-04,  2.50004311e-02,  8.14269501e-06,\n",
       "         1.17707800e-05,  2.20877381e-05,  7.28352067e-07,\n",
       "         9.77320338e-03,  2.99865540e-04,  4.17456385e-03,\n",
       "         2.76587030e-03,  4.08986916e-05,  2.73515163e-05,\n",
       "         1.78281049e-05,  4.26548281e-05,  3.22606844e-04,\n",
       "         2.50014245e-02,  2.50014244e-02,  2.17003971e-02,\n",
       "         9.91996011e-05,  3.89471210e-04,  2.53882090e-07,\n",
       "         9.25658662e-05,  1.86129227e-02, -0.00000000e+00,\n",
       "         3.86649997e-04, -1.61146201e-04,  7.16714068e-07,\n",
       "         7.47359198e-14,  1.77744851e-02,  1.13831853e-03,\n",
       "         3.24144273e-03,  2.50152727e-06,  2.71731950e-06,\n",
       "         2.35913412e-05,  3.33201045e-04,  1.97079922e-03,\n",
       "         4.25825055e-03,  4.77841890e-03,  3.33077931e-03,\n",
       "         1.47417710e-03,  7.13589693e-04,  3.70960417e-04,\n",
       "         2.62944533e-04, -1.59988795e-04,  1.32859031e-05,\n",
       "         2.50014243e-02,  1.59196370e-05,  2.99487047e-06,\n",
       "         1.62598045e-03,  1.48965573e-03,  3.53399640e-03,\n",
       "         9.09953520e-03,  1.70138715e-03,  4.51390288e-05,\n",
       "         5.66463040e-07,  3.72306236e-07,  1.50981613e-06,\n",
       "         1.00953489e-05,  6.44406343e-03,  2.64831707e-03,\n",
       "         1.66519754e-06,  1.92132503e-04,  1.28878207e-08,\n",
       "        -3.57606410e-09,  7.55348038e-03,  2.51485535e-05,\n",
       "         1.40878546e-06,  4.21581708e-06,  1.64606902e-05,\n",
       "         2.54066415e-05,  8.71912237e-05, -7.22133502e-09,\n",
       "         4.14432241e-06, -9.15937433e-06, -2.37252669e-06,\n",
       "         1.87154463e-04,  9.31255289e-05,  2.40446248e-05,\n",
       "         9.96962318e-01,  7.15194515e-03,  8.32857148e-04,\n",
       "         1.27665163e-04,  1.39143908e-02,  3.01674989e-03,\n",
       "         1.82948874e-02,  1.84077315e-04,  2.84804675e-09,\n",
       "         4.42632626e-09,  1.72920775e-02,  4.92341221e-06,\n",
       "         4.59649514e-06,  3.69348707e-03,  3.01639330e-03,\n",
       "         1.83611279e-03,  8.09478691e-04,  1.48303979e-03,\n",
       "         1.57169059e-03,  1.82285325e-03,  3.17708200e-03,\n",
       "         1.05935099e-04, -4.36521319e-07,  1.04628741e-09,\n",
       "         5.12735376e-10],\n",
       "       [-6.08979544e-06,  1.34167286e-04,  5.77349130e-01,\n",
       "        -5.41884398e-10, -9.03792097e-10, -2.14859117e-08,\n",
       "        -1.34041415e-07, -1.20648289e-06, -1.14958552e-05,\n",
       "        -5.31276370e-05, -1.16419220e-04, -1.52697873e-04,\n",
       "        -4.38683183e-05, -3.23683025e-06, -5.62097377e-07,\n",
       "        -1.84080677e-04, -1.10685833e-06, -1.53081893e-07,\n",
       "        -1.21325200e-07, -7.09480375e-06, -1.12085221e-05,\n",
       "        -3.42613952e-04, -2.96517364e-04, -9.74000084e-05,\n",
       "        -4.69381851e-05, -4.77642010e-11, -1.53644289e-08,\n",
       "        -5.68001688e-07, -2.66654333e-08, -7.52809044e-08,\n",
       "        -2.58439442e-08, -1.52004823e-06, -1.50031788e-06,\n",
       "        -1.72824719e-06, -1.06691713e-06, -1.65912210e-06,\n",
       "        -1.32588232e-05, -8.93084066e-05, -1.63763282e-04,\n",
       "        -1.08124667e-04, -1.14078420e-07, -5.34512631e-07,\n",
       "        -4.20181613e-07, -7.65728544e-07, -8.39551529e-06,\n",
       "        -1.51702230e-04, -2.08612619e-04, -9.38963764e-06,\n",
       "        -2.16177617e-06, -6.30269339e-08, -3.77395243e-09,\n",
       "        -1.35425381e-04, -8.73753865e-05, -4.28416061e-05,\n",
       "        -2.82630056e-05, -2.09816215e-05, -1.92416258e-05,\n",
       "        -2.18199154e-05, -1.85040906e-05, -4.42357316e-06,\n",
       "        -4.32210768e-06, -4.47664233e-04, -5.63144557e-08,\n",
       "        -6.57395052e-08, -1.22998200e-07, -8.31765309e-09,\n",
       "        -1.83924533e-04, -6.07708437e-06, -4.12035034e-05,\n",
       "        -5.60204987e-05, -3.48963838e-06, -4.31973125e-06,\n",
       "        -4.36008665e-06,  7.31195333e-06, -6.08837941e-06,\n",
       "        -4.46352228e-04, -4.46352284e-04, -3.93378486e-04,\n",
       "        -2.23629706e-06, -1.22255265e-05,  1.73790823e-07,\n",
       "         4.01294171e-07, -3.76100038e-04, -0.00000000e+00,\n",
       "        -4.45958722e-06,  5.77349150e-01, -6.00018277e-09,\n",
       "        -3.00645899e-14, -3.57743515e-04, -1.24467784e-05,\n",
       "        -7.08920853e-05, -2.90211096e-08, -1.32110584e-08,\n",
       "        -3.30831077e-07, -2.95917847e-06, -2.02119830e-05,\n",
       "        -6.00284408e-05, -1.26474718e-04, -1.25309675e-04,\n",
       "        -3.74979446e-05, -6.87169472e-06, -2.22385818e-06,\n",
       "        -1.00168858e-06,  5.77349134e-01, -4.64665243e-08,\n",
       "        -4.46352269e-04, -1.65097644e-07, -7.24939878e-08,\n",
       "        -2.90939015e-05, -3.55537862e-05, -5.20794890e-05,\n",
       "        -2.29189293e-04, -3.63442721e-05, -5.75751709e-07,\n",
       "         3.78096993e-09, -9.55721139e-08, -3.57344769e-08,\n",
       "        -7.06439979e-08, -1.30450515e-04, -2.31873435e-05,\n",
       "        -1.82600302e-08, -1.38668401e-06, -4.19960593e-10,\n",
       "        -6.27931287e-10, -1.58508258e-04, -2.74399820e-07,\n",
       "        -2.60924852e-08, -3.24779063e-07, -6.95519716e-07,\n",
       "        -8.81245587e-07, -4.26654814e-06, -2.84149553e-09,\n",
       "        -2.11230160e-07, -2.06614316e-06, -5.87165943e-07,\n",
       "        -3.54160394e-06, -2.43989342e-06, -5.30767572e-07,\n",
       "         4.04612949e-04, -2.02160134e-05, -8.22247556e-06,\n",
       "        -1.37385316e-06, -2.95832939e-04, -4.96837520e-05,\n",
       "        -5.26270256e-05, -8.12130734e-07, -1.16498488e-11,\n",
       "        -1.03164140e-10, -1.33495979e-03, -9.39592253e-08,\n",
       "        -1.03906819e-07, -7.13987975e-05, -8.10056641e-05,\n",
       "        -4.45802968e-05, -2.06057662e-05, -4.30824266e-05,\n",
       "        -3.59613475e-05, -3.33398396e-05, -3.95120905e-05,\n",
       "        -1.25743357e-05, -7.31804925e-07, -6.26238625e-12,\n",
       "        -1.38529783e-11]])"
      ]
     },
     "execution_count": 41,
     "metadata": {},
     "output_type": "execute_result"
    }
   ],
   "source": [
    "pca.components_"
   ]
  },
  {
   "cell_type": "markdown",
   "metadata": {},
   "source": [
    "First, we will use PCA to establish the minimum number of features needed to retain 99.5% variance in data"
   ]
  },
  {
   "cell_type": "code",
   "execution_count": 27,
   "metadata": {},
   "outputs": [
    {
     "data": {
      "text/plain": [
       "3"
      ]
     },
     "execution_count": 27,
     "metadata": {},
     "output_type": "execute_result"
    }
   ],
   "source": [
    "pca=PCA(0.995).fit(X)\n",
    "pca.n_components_"
   ]
  },
  {
   "cell_type": "code",
   "execution_count": 47,
   "metadata": {},
   "outputs": [
    {
     "name": "stdout",
     "output_type": "stream",
     "text": [
      "Total Explained Variance: 99.519%\n"
     ]
    }
   ],
   "source": [
    "var = pca.explained_variance_ratio_.sum() * 100\n",
    "print('Total Explained Variance: {}%'.format(round(var,3)))"
   ]
  },
  {
   "cell_type": "markdown",
   "metadata": {},
   "source": [
    "We will need 3 components to archieve 99.5% accuracy."
   ]
  },
  {
   "cell_type": "code",
   "execution_count": 28,
   "metadata": {},
   "outputs": [
    {
     "name": "stdout",
     "output_type": "stream",
     "text": [
      "Original Shape:  (60000, 163)\n",
      "Transformed Shape:  (60000, 3)\n"
     ]
    }
   ],
   "source": [
    "pca = PCA(n_components=3)\n",
    "pca.fit(X)\n",
    "X_pca = pca.transform(X)\n",
    "print(\"Original Shape: \", X.shape)\n",
    "print(\"Transformed Shape: \", X_pca.shape)"
   ]
  },
  {
   "cell_type": "code",
   "execution_count": 29,
   "metadata": {},
   "outputs": [
    {
     "data": {
      "image/png": "[encoded data removed]",
      "text/plain": [
       "<Figure size 432x288 with 1 Axes>"
      ]
     },
     "metadata": {
      "needs_background": "light"
     },
     "output_type": "display_data"
    }
   ],
   "source": [
    "pca = PCA().fit(X)\n",
    "plt.plot(np.cumsum(pca.explained_variance_ratio_)) \n",
    "plt.xlabel('number of components') \n",
    "plt.ylabel('cumulative explained variance');"
   ]
  },
  {
   "cell_type": "code",
   "execution_count": 30,
   "metadata": {},
   "outputs": [
    {
     "data": {
      "text/plain": [
       "array([[ 1.79449445e+09,  3.18846279e+05, -1.42172944e+04],\n",
       "       [-3.36192464e+08, -5.37378644e+06, -2.83888557e+05],\n",
       "       [-3.36192058e+08, -5.62720928e+06, -2.76667990e+05],\n",
       "       ...,\n",
       "       [ 1.79451385e+09, -1.43241506e+06,  2.28354360e+04],\n",
       "       [ 1.79444580e+09,  9.85350406e+05, -6.42200673e+04],\n",
       "       [-3.36276008e+08, -4.90354493e+06, -3.28668935e+05]])"
      ]
     },
     "execution_count": 30,
     "metadata": {},
     "output_type": "execute_result"
    }
   ],
   "source": [
    "pca = PCA(n_components=3)\n",
    "new_df = pca.fit_transform(X)\n",
    "new_df"
   ]
  },
  {
   "cell_type": "markdown",
   "metadata": {},
   "source": [
    "Above we are displaying the PCA components in array form to allow so they can be read and dealt with by a Machine Learning algorithm."
   ]
  },
  {
   "cell_type": "code",
   "execution_count": 31,
   "metadata": {},
   "outputs": [
    {
     "data": {
      "text/plain": [
       "array([0.97450722, 0.01472696, 0.00595084])"
      ]
     },
     "execution_count": 31,
     "metadata": {},
     "output_type": "execute_result"
    }
   ],
   "source": [
    "explained_variance = pca.explained_variance_ratio_\n",
    "explained_variance"
   ]
  },
  {
   "cell_type": "markdown",
   "metadata": {},
   "source": [
    "Above is listed the percentage of info for each of the 3 components whose contain the majority of the information."
   ]
  },
  {
   "cell_type": "code",
   "execution_count": 69,
   "metadata": {},
   "outputs": [
    {
     "data": {
      "text/html": [
       "<div>\n",
       "<style scoped>\n",
       "    .dataframe tbody tr th:only-of-type {\n",
       "        vertical-align: middle;\n",
       "    }\n",
       "\n",
       "    .dataframe tbody tr th {\n",
       "        vertical-align: top;\n",
       "    }\n",
       "\n",
       "    .dataframe thead th {\n",
       "        text-align: right;\n",
       "    }\n",
       "</style>\n",
       "<table border=\"1\" class=\"dataframe\">\n",
       "  <thead>\n",
       "    <tr style=\"text-align: right;\">\n",
       "      <th></th>\n",
       "      <th>PC1</th>\n",
       "      <th>PC2</th>\n",
       "      <th>PC3</th>\n",
       "      <th>class</th>\n",
       "    </tr>\n",
       "  </thead>\n",
       "  <tbody>\n",
       "    <tr>\n",
       "      <th>0</th>\n",
       "      <td>1.794494e+09</td>\n",
       "      <td>3.188463e+05</td>\n",
       "      <td>-14217.294429</td>\n",
       "      <td>neg</td>\n",
       "    </tr>\n",
       "    <tr>\n",
       "      <th>1</th>\n",
       "      <td>-3.361925e+08</td>\n",
       "      <td>-5.373786e+06</td>\n",
       "      <td>-283888.557115</td>\n",
       "      <td>neg</td>\n",
       "    </tr>\n",
       "    <tr>\n",
       "      <th>2</th>\n",
       "      <td>-3.361921e+08</td>\n",
       "      <td>-5.627209e+06</td>\n",
       "      <td>-276667.989955</td>\n",
       "      <td>neg</td>\n",
       "    </tr>\n",
       "    <tr>\n",
       "      <th>3</th>\n",
       "      <td>-3.361691e+08</td>\n",
       "      <td>-6.271396e+06</td>\n",
       "      <td>-262923.978133</td>\n",
       "      <td>neg</td>\n",
       "    </tr>\n",
       "    <tr>\n",
       "      <th>4</th>\n",
       "      <td>-3.362450e+08</td>\n",
       "      <td>-4.904801e+06</td>\n",
       "      <td>-310153.453133</td>\n",
       "      <td>neg</td>\n",
       "    </tr>\n",
       "    <tr>\n",
       "      <th>...</th>\n",
       "      <td>...</td>\n",
       "      <td>...</td>\n",
       "      <td>...</td>\n",
       "      <td>...</td>\n",
       "    </tr>\n",
       "    <tr>\n",
       "      <th>59995</th>\n",
       "      <td>-3.364226e+08</td>\n",
       "      <td>-2.456408e+06</td>\n",
       "      <td>-416448.148314</td>\n",
       "      <td>neg</td>\n",
       "    </tr>\n",
       "    <tr>\n",
       "      <th>59996</th>\n",
       "      <td>1.794512e+09</td>\n",
       "      <td>-1.376596e+06</td>\n",
       "      <td>20484.260611</td>\n",
       "      <td>neg</td>\n",
       "    </tr>\n",
       "    <tr>\n",
       "      <th>59997</th>\n",
       "      <td>1.794514e+09</td>\n",
       "      <td>-1.432415e+06</td>\n",
       "      <td>22835.436007</td>\n",
       "      <td>neg</td>\n",
       "    </tr>\n",
       "    <tr>\n",
       "      <th>59998</th>\n",
       "      <td>1.794446e+09</td>\n",
       "      <td>9.853504e+05</td>\n",
       "      <td>-64220.067333</td>\n",
       "      <td>neg</td>\n",
       "    </tr>\n",
       "    <tr>\n",
       "      <th>59999</th>\n",
       "      <td>-3.362760e+08</td>\n",
       "      <td>-4.903545e+06</td>\n",
       "      <td>-328668.934801</td>\n",
       "      <td>neg</td>\n",
       "    </tr>\n",
       "  </tbody>\n",
       "</table>\n",
       "<p>60000 rows × 4 columns</p>\n",
       "</div>"
      ],
      "text/plain": [
       "                PC1           PC2            PC3 class\n",
       "0      1.794494e+09  3.188463e+05  -14217.294429   neg\n",
       "1     -3.361925e+08 -5.373786e+06 -283888.557115   neg\n",
       "2     -3.361921e+08 -5.627209e+06 -276667.989955   neg\n",
       "3     -3.361691e+08 -6.271396e+06 -262923.978133   neg\n",
       "4     -3.362450e+08 -4.904801e+06 -310153.453133   neg\n",
       "...             ...           ...            ...   ...\n",
       "59995 -3.364226e+08 -2.456408e+06 -416448.148314   neg\n",
       "59996  1.794512e+09 -1.376596e+06   20484.260611   neg\n",
       "59997  1.794514e+09 -1.432415e+06   22835.436007   neg\n",
       "59998  1.794446e+09  9.853504e+05  -64220.067333   neg\n",
       "59999 -3.362760e+08 -4.903545e+06 -328668.934801   neg\n",
       "\n",
       "[60000 rows x 4 columns]"
      ]
     },
     "execution_count": 69,
     "metadata": {},
     "output_type": "execute_result"
    }
   ],
   "source": [
    "main_AFS = pd.DataFrame(data = new_df, columns = ['PC1','PC2','PC3'])\n",
    "pca_df = pd.concat([main_AFS, df['class']], axis = 1)\n",
    "pca_df"
   ]
  },
  {
   "cell_type": "markdown",
   "metadata": {},
   "source": [
    "# Curse of Dimensionality"
   ]
  },
  {
   "cell_type": "markdown",
   "metadata": {},
   "source": [
    "The Curse of Dimensionality is a collection of issues that develop while working with high-dimensional data. What is high-dimensional data? A dimension is the number of attributes or features in a dataset. High dimensional data refers to a dataset with many attributes, typically one hundred or more. Meaning that as the number of feature dimensions you want to use increases, the more sparse the data becomes inside the data space. That sparsity among the data points is the main issue because it will be more difficult and require more resources for the machine learning algorithm to achieve the same statistical significance if compared to an analysis made with less features space. There are a lot of domains where the curse of dimensionality may be seen directly, with \"Machine Learning\" being the most successful. "
   ]
  },
  {
   "cell_type": "markdown",
   "metadata": {},
   "source": [
    "# References"
   ]
  },
  {
   "cell_type": "markdown",
   "metadata": {},
   "source": [
    "numpy.org. (n.d.). Data type objects (dtype) — NumPy v1.23 Manual. [online] Available at: https://numpy.org/doc/stable/reference/arrays.dtypes.html [Accessed 10 Nov. 2022]."
   ]
  },
  {
   "cell_type": "markdown",
   "metadata": {},
   "source": [
    "Benwell, N.J. (1976). Data preparation techniques. London: Advance Publications Ltd, Cop."
   ]
  },
  {
   "cell_type": "markdown",
   "metadata": {},
   "source": [
    "Jolliffe, I.T. (2006). Principal Component Analysis. Springer Science & Business Media."
   ]
  },
  {
   "cell_type": "markdown",
   "metadata": {},
   "source": [
    "GeeksforGeeks. (2018). Principal Component Analysis with Python - GeeksforGeeks. [online] Available at: https://www.geeksforgeeks.org/principal-component-analysis-with-python/."
   ]
  },
  {
   "cell_type": "markdown",
   "metadata": {},
   "source": [
    "Chen, L. (2009). Curse of Dimensionality. Encyclopedia of Database Systems, [online] pp.545–546. doi:10.1007/978-0-387-39940-9_133.\n",
    "\n",
    "‌"
   ]
  }
 ],
 "metadata": {
  "kernelspec": {
   "display_name": "Python 3",
   "language": "python",
   "name": "python3"
  },
  "language_info": {
   "codemirror_mode": {
    "name": "ipython",
    "version": 3
   },
   "file_extension": ".py",
   "mimetype": "text/x-python",
   "name": "python",
   "nbconvert_exporter": "python",
   "pygments_lexer": "ipython3",
   "version": "3.8.5"
  }
 },
 "nbformat": 4,
 "nbformat_minor": 4
}
